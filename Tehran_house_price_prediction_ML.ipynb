{
 "cells": [
  {
   "cell_type": "code",
   "execution_count": 1,
   "id": "4beeb5d8",
   "metadata": {
    "_cell_guid": "b1076dfc-b9ad-4769-8c92-a6c4dae69d19",
    "_uuid": "8f2839f25d086af736a60e9eeb907d3b93b6e0e5",
    "execution": {
     "iopub.execute_input": "2025-03-25T19:49:49.392410Z",
     "iopub.status.busy": "2025-03-25T19:49:49.392043Z",
     "iopub.status.idle": "2025-03-25T19:49:53.215813Z",
     "shell.execute_reply": "2025-03-25T19:49:53.214635Z"
    },
    "papermill": {
     "duration": 3.840377,
     "end_time": "2025-03-25T19:49:53.217818",
     "exception": false,
     "start_time": "2025-03-25T19:49:49.377441",
     "status": "completed"
    },
    "tags": []
   },
   "outputs": [],
   "source": [
    "import numpy as np\n",
    "import pandas as pd\n",
    "import matplotlib.pyplot as plt\n",
    "%matplotlib inline\n",
    "import matplotlib \n",
    "matplotlib.rcParams['figure.figsize']=(20,10)\n",
    "import seaborn as sns\n",
    "\n",
    "\n",
    "# Preproccesing \n",
    "from sklearn.preprocessing import StandardScaler\n",
    "from sklearn.preprocessing import MinMaxScaler\n",
    "\n",
    "# Models\n",
    "from sklearn.linear_model import LinearRegression\n",
    "from sklearn.linear_model import Lasso\n",
    "from sklearn.tree import DecisionTreeRegressor\n",
    "from sklearn.linear_model import Ridge\n",
    "from sklearn.ensemble import RandomForestRegressor\n",
    "from sklearn.tree import DecisionTreeRegressor\n",
    "from xgboost import XGBRegressor\n",
    "\n",
    "# Feature Selection\n",
    "from sklearn.feature_selection import SelectFromModel\n",
    "# Cross Validation \n",
    "from sklearn.model_selection import ShuffleSplit\n",
    "from sklearn.model_selection import cross_val_score\n",
    "from sklearn.model_selection import GridSearchCV, ShuffleSplit\n",
    "\n",
    "# score\n",
    "from sklearn.metrics import r2_score,accuracy_score\n",
    "\n",
    "import warnings\n",
    "warnings.filterwarnings(\"ignore\")"
   ]
  },
  {
   "cell_type": "code",
   "execution_count": 2,
   "id": "1c9ea18b",
   "metadata": {
    "execution": {
     "iopub.execute_input": "2025-03-25T19:49:53.244337Z",
     "iopub.status.busy": "2025-03-25T19:49:53.243822Z",
     "iopub.status.idle": "2025-03-25T19:49:53.271472Z",
     "shell.execute_reply": "2025-03-25T19:49:53.270344Z"
    },
    "papermill": {
     "duration": 0.042768,
     "end_time": "2025-03-25T19:49:53.273460",
     "exception": false,
     "start_time": "2025-03-25T19:49:53.230692",
     "status": "completed"
    },
    "tags": []
   },
   "outputs": [],
   "source": [
    "df = pd.read_csv('/kaggle/input/tehran-realstate/TehranHouse.csv')\n"
   ]
  },
  {
   "cell_type": "markdown",
   "id": "d3990f2e",
   "metadata": {
    "papermill": {
     "duration": 0.012845,
     "end_time": "2025-03-25T19:49:53.299794",
     "exception": false,
     "start_time": "2025-03-25T19:49:53.286949",
     "status": "completed"
    },
    "tags": []
   },
   "source": [
    "Exploring DataSet"
   ]
  },
  {
   "cell_type": "code",
   "execution_count": 3,
   "id": "7fb56d26",
   "metadata": {
    "execution": {
     "iopub.execute_input": "2025-03-25T19:49:53.325454Z",
     "iopub.status.busy": "2025-03-25T19:49:53.325088Z",
     "iopub.status.idle": "2025-03-25T19:49:53.357249Z",
     "shell.execute_reply": "2025-03-25T19:49:53.356140Z"
    },
    "papermill": {
     "duration": 0.046982,
     "end_time": "2025-03-25T19:49:53.358964",
     "exception": false,
     "start_time": "2025-03-25T19:49:53.311982",
     "status": "completed"
    },
    "tags": []
   },
   "outputs": [
    {
     "data": {
      "text/html": [
       "<div>\n",
       "<style scoped>\n",
       "    .dataframe tbody tr th:only-of-type {\n",
       "        vertical-align: middle;\n",
       "    }\n",
       "\n",
       "    .dataframe tbody tr th {\n",
       "        vertical-align: top;\n",
       "    }\n",
       "\n",
       "    .dataframe thead th {\n",
       "        text-align: right;\n",
       "    }\n",
       "</style>\n",
       "<table border=\"1\" class=\"dataframe\">\n",
       "  <thead>\n",
       "    <tr style=\"text-align: right;\">\n",
       "      <th></th>\n",
       "      <th>Area</th>\n",
       "      <th>Room</th>\n",
       "      <th>Parking</th>\n",
       "      <th>Warehouse</th>\n",
       "      <th>Elevator</th>\n",
       "      <th>Address</th>\n",
       "      <th>Price</th>\n",
       "      <th>Price(USD)</th>\n",
       "    </tr>\n",
       "  </thead>\n",
       "  <tbody>\n",
       "    <tr>\n",
       "      <th>0</th>\n",
       "      <td>63</td>\n",
       "      <td>1</td>\n",
       "      <td>True</td>\n",
       "      <td>True</td>\n",
       "      <td>True</td>\n",
       "      <td>Shahran</td>\n",
       "      <td>1.850000e+09</td>\n",
       "      <td>61666.67</td>\n",
       "    </tr>\n",
       "    <tr>\n",
       "      <th>1</th>\n",
       "      <td>60</td>\n",
       "      <td>1</td>\n",
       "      <td>True</td>\n",
       "      <td>True</td>\n",
       "      <td>True</td>\n",
       "      <td>Shahran</td>\n",
       "      <td>1.850000e+09</td>\n",
       "      <td>61666.67</td>\n",
       "    </tr>\n",
       "    <tr>\n",
       "      <th>2</th>\n",
       "      <td>79</td>\n",
       "      <td>2</td>\n",
       "      <td>True</td>\n",
       "      <td>True</td>\n",
       "      <td>True</td>\n",
       "      <td>Pardis</td>\n",
       "      <td>5.500000e+08</td>\n",
       "      <td>18333.33</td>\n",
       "    </tr>\n",
       "    <tr>\n",
       "      <th>3</th>\n",
       "      <td>95</td>\n",
       "      <td>2</td>\n",
       "      <td>True</td>\n",
       "      <td>True</td>\n",
       "      <td>True</td>\n",
       "      <td>Shahrake Qods</td>\n",
       "      <td>9.025000e+08</td>\n",
       "      <td>30083.33</td>\n",
       "    </tr>\n",
       "    <tr>\n",
       "      <th>4</th>\n",
       "      <td>123</td>\n",
       "      <td>2</td>\n",
       "      <td>True</td>\n",
       "      <td>True</td>\n",
       "      <td>True</td>\n",
       "      <td>Shahrake Gharb</td>\n",
       "      <td>7.000000e+09</td>\n",
       "      <td>233333.33</td>\n",
       "    </tr>\n",
       "  </tbody>\n",
       "</table>\n",
       "</div>"
      ],
      "text/plain": [
       "  Area  Room  Parking  Warehouse  Elevator         Address         Price  \\\n",
       "0   63     1     True       True      True         Shahran  1.850000e+09   \n",
       "1   60     1     True       True      True         Shahran  1.850000e+09   \n",
       "2   79     2     True       True      True          Pardis  5.500000e+08   \n",
       "3   95     2     True       True      True   Shahrake Qods  9.025000e+08   \n",
       "4  123     2     True       True      True  Shahrake Gharb  7.000000e+09   \n",
       "\n",
       "   Price(USD)  \n",
       "0    61666.67  \n",
       "1    61666.67  \n",
       "2    18333.33  \n",
       "3    30083.33  \n",
       "4   233333.33  "
      ]
     },
     "execution_count": 3,
     "metadata": {},
     "output_type": "execute_result"
    }
   ],
   "source": [
    "df.head()"
   ]
  },
  {
   "cell_type": "code",
   "execution_count": 4,
   "id": "702951dc",
   "metadata": {
    "execution": {
     "iopub.execute_input": "2025-03-25T19:49:53.385456Z",
     "iopub.status.busy": "2025-03-25T19:49:53.385131Z",
     "iopub.status.idle": "2025-03-25T19:49:53.412870Z",
     "shell.execute_reply": "2025-03-25T19:49:53.411656Z"
    },
    "papermill": {
     "duration": 0.04304,
     "end_time": "2025-03-25T19:49:53.414671",
     "exception": false,
     "start_time": "2025-03-25T19:49:53.371631",
     "status": "completed"
    },
    "tags": []
   },
   "outputs": [
    {
     "name": "stdout",
     "output_type": "stream",
     "text": [
      "<class 'pandas.core.frame.DataFrame'>\n",
      "RangeIndex: 3479 entries, 0 to 3478\n",
      "Data columns (total 8 columns):\n",
      " #   Column      Non-Null Count  Dtype  \n",
      "---  ------      --------------  -----  \n",
      " 0   Area        3479 non-null   object \n",
      " 1   Room        3479 non-null   int64  \n",
      " 2   Parking     3479 non-null   bool   \n",
      " 3   Warehouse   3479 non-null   bool   \n",
      " 4   Elevator    3479 non-null   bool   \n",
      " 5   Address     3456 non-null   object \n",
      " 6   Price       3479 non-null   float64\n",
      " 7   Price(USD)  3479 non-null   float64\n",
      "dtypes: bool(3), float64(2), int64(1), object(2)\n",
      "memory usage: 146.2+ KB\n"
     ]
    }
   ],
   "source": [
    "df.info()"
   ]
  },
  {
   "cell_type": "code",
   "execution_count": 5,
   "id": "f868fc92",
   "metadata": {
    "execution": {
     "iopub.execute_input": "2025-03-25T19:49:53.441639Z",
     "iopub.status.busy": "2025-03-25T19:49:53.441270Z",
     "iopub.status.idle": "2025-03-25T19:49:53.446690Z",
     "shell.execute_reply": "2025-03-25T19:49:53.445721Z"
    },
    "papermill": {
     "duration": 0.020116,
     "end_time": "2025-03-25T19:49:53.448198",
     "exception": false,
     "start_time": "2025-03-25T19:49:53.428082",
     "status": "completed"
    },
    "tags": []
   },
   "outputs": [
    {
     "data": {
      "text/plain": [
       "(3479, 8)"
      ]
     },
     "execution_count": 5,
     "metadata": {},
     "output_type": "execute_result"
    }
   ],
   "source": [
    "df.shape"
   ]
  },
  {
   "cell_type": "markdown",
   "id": "918b94ed",
   "metadata": {
    "papermill": {
     "duration": 0.011997,
     "end_time": "2025-03-25T19:49:53.473000",
     "exception": false,
     "start_time": "2025-03-25T19:49:53.461003",
     "status": "completed"
    },
    "tags": []
   },
   "source": [
    "**Data Cleaning and Formating (Preproessing)**"
   ]
  },
  {
   "cell_type": "code",
   "execution_count": 6,
   "id": "024d0dc4",
   "metadata": {
    "execution": {
     "iopub.execute_input": "2025-03-25T19:49:53.499018Z",
     "iopub.status.busy": "2025-03-25T19:49:53.498643Z",
     "iopub.status.idle": "2025-03-25T19:49:53.525064Z",
     "shell.execute_reply": "2025-03-25T19:49:53.523902Z"
    },
    "papermill": {
     "duration": 0.041601,
     "end_time": "2025-03-25T19:49:53.526954",
     "exception": false,
     "start_time": "2025-03-25T19:49:53.485353",
     "status": "completed"
    },
    "tags": []
   },
   "outputs": [
    {
     "data": {
      "text/html": [
       "<div>\n",
       "<style scoped>\n",
       "    .dataframe tbody tr th:only-of-type {\n",
       "        vertical-align: middle;\n",
       "    }\n",
       "\n",
       "    .dataframe tbody tr th {\n",
       "        vertical-align: top;\n",
       "    }\n",
       "\n",
       "    .dataframe thead th {\n",
       "        text-align: right;\n",
       "    }\n",
       "</style>\n",
       "<table border=\"1\" class=\"dataframe\">\n",
       "  <thead>\n",
       "    <tr style=\"text-align: right;\">\n",
       "      <th></th>\n",
       "      <th>Area</th>\n",
       "      <th>Room</th>\n",
       "      <th>Parking</th>\n",
       "      <th>Warehouse</th>\n",
       "      <th>Elevator</th>\n",
       "      <th>Address</th>\n",
       "      <th>Price</th>\n",
       "      <th>Price(USD)</th>\n",
       "    </tr>\n",
       "  </thead>\n",
       "  <tbody>\n",
       "    <tr>\n",
       "      <th>0</th>\n",
       "      <td>63.0</td>\n",
       "      <td>1</td>\n",
       "      <td>True</td>\n",
       "      <td>True</td>\n",
       "      <td>True</td>\n",
       "      <td>Shahran</td>\n",
       "      <td>1.850000e+09</td>\n",
       "      <td>61666.67</td>\n",
       "    </tr>\n",
       "    <tr>\n",
       "      <th>1</th>\n",
       "      <td>60.0</td>\n",
       "      <td>1</td>\n",
       "      <td>True</td>\n",
       "      <td>True</td>\n",
       "      <td>True</td>\n",
       "      <td>Shahran</td>\n",
       "      <td>1.850000e+09</td>\n",
       "      <td>61666.67</td>\n",
       "    </tr>\n",
       "    <tr>\n",
       "      <th>2</th>\n",
       "      <td>79.0</td>\n",
       "      <td>2</td>\n",
       "      <td>True</td>\n",
       "      <td>True</td>\n",
       "      <td>True</td>\n",
       "      <td>Pardis</td>\n",
       "      <td>5.500000e+08</td>\n",
       "      <td>18333.33</td>\n",
       "    </tr>\n",
       "    <tr>\n",
       "      <th>3</th>\n",
       "      <td>95.0</td>\n",
       "      <td>2</td>\n",
       "      <td>True</td>\n",
       "      <td>True</td>\n",
       "      <td>True</td>\n",
       "      <td>Shahrake Qods</td>\n",
       "      <td>9.025000e+08</td>\n",
       "      <td>30083.33</td>\n",
       "    </tr>\n",
       "    <tr>\n",
       "      <th>4</th>\n",
       "      <td>123.0</td>\n",
       "      <td>2</td>\n",
       "      <td>True</td>\n",
       "      <td>True</td>\n",
       "      <td>True</td>\n",
       "      <td>Shahrake Gharb</td>\n",
       "      <td>7.000000e+09</td>\n",
       "      <td>233333.33</td>\n",
       "    </tr>\n",
       "    <tr>\n",
       "      <th>...</th>\n",
       "      <td>...</td>\n",
       "      <td>...</td>\n",
       "      <td>...</td>\n",
       "      <td>...</td>\n",
       "      <td>...</td>\n",
       "      <td>...</td>\n",
       "      <td>...</td>\n",
       "      <td>...</td>\n",
       "    </tr>\n",
       "    <tr>\n",
       "      <th>3474</th>\n",
       "      <td>86.0</td>\n",
       "      <td>2</td>\n",
       "      <td>True</td>\n",
       "      <td>True</td>\n",
       "      <td>True</td>\n",
       "      <td>Southern Janatabad</td>\n",
       "      <td>3.500000e+09</td>\n",
       "      <td>116666.67</td>\n",
       "    </tr>\n",
       "    <tr>\n",
       "      <th>3475</th>\n",
       "      <td>83.0</td>\n",
       "      <td>2</td>\n",
       "      <td>True</td>\n",
       "      <td>True</td>\n",
       "      <td>True</td>\n",
       "      <td>Niavaran</td>\n",
       "      <td>6.800000e+09</td>\n",
       "      <td>226666.67</td>\n",
       "    </tr>\n",
       "    <tr>\n",
       "      <th>3476</th>\n",
       "      <td>75.0</td>\n",
       "      <td>2</td>\n",
       "      <td>False</td>\n",
       "      <td>False</td>\n",
       "      <td>False</td>\n",
       "      <td>Parand</td>\n",
       "      <td>3.650000e+08</td>\n",
       "      <td>12166.67</td>\n",
       "    </tr>\n",
       "    <tr>\n",
       "      <th>3477</th>\n",
       "      <td>105.0</td>\n",
       "      <td>2</td>\n",
       "      <td>True</td>\n",
       "      <td>True</td>\n",
       "      <td>True</td>\n",
       "      <td>Dorous</td>\n",
       "      <td>5.600000e+09</td>\n",
       "      <td>186666.67</td>\n",
       "    </tr>\n",
       "    <tr>\n",
       "      <th>3478</th>\n",
       "      <td>82.0</td>\n",
       "      <td>2</td>\n",
       "      <td>False</td>\n",
       "      <td>True</td>\n",
       "      <td>True</td>\n",
       "      <td>Parand</td>\n",
       "      <td>3.600000e+08</td>\n",
       "      <td>12000.00</td>\n",
       "    </tr>\n",
       "  </tbody>\n",
       "</table>\n",
       "<p>3473 rows × 8 columns</p>\n",
       "</div>"
      ],
      "text/plain": [
       "       Area  Room  Parking  Warehouse  Elevator             Address  \\\n",
       "0      63.0     1     True       True      True             Shahran   \n",
       "1      60.0     1     True       True      True             Shahran   \n",
       "2      79.0     2     True       True      True              Pardis   \n",
       "3      95.0     2     True       True      True       Shahrake Qods   \n",
       "4     123.0     2     True       True      True      Shahrake Gharb   \n",
       "...     ...   ...      ...        ...       ...                 ...   \n",
       "3474   86.0     2     True       True      True  Southern Janatabad   \n",
       "3475   83.0     2     True       True      True            Niavaran   \n",
       "3476   75.0     2    False      False     False              Parand   \n",
       "3477  105.0     2     True       True      True              Dorous   \n",
       "3478   82.0     2    False       True      True              Parand   \n",
       "\n",
       "             Price  Price(USD)  \n",
       "0     1.850000e+09    61666.67  \n",
       "1     1.850000e+09    61666.67  \n",
       "2     5.500000e+08    18333.33  \n",
       "3     9.025000e+08    30083.33  \n",
       "4     7.000000e+09   233333.33  \n",
       "...            ...         ...  \n",
       "3474  3.500000e+09   116666.67  \n",
       "3475  6.800000e+09   226666.67  \n",
       "3476  3.650000e+08    12166.67  \n",
       "3477  5.600000e+09   186666.67  \n",
       "3478  3.600000e+08    12000.00  \n",
       "\n",
       "[3473 rows x 8 columns]"
      ]
     },
     "execution_count": 6,
     "metadata": {},
     "output_type": "execute_result"
    }
   ],
   "source": [
    "# pd.options.display.float_format = '{:.0f}'.format  \n",
    "\n",
    "fdata = df.copy()\n",
    "\n",
    "fdata['Price'] = pd.to_numeric(fdata['Price'], errors='coerce')  \n",
    "fdata['Price(USD)'] = pd.to_numeric(fdata['Price(USD)'], errors='coerce')  \n",
    "fdata['Area'] = pd.to_numeric(fdata['Area'], errors='coerce')  \n",
    "fdata['Room'] = pd.to_numeric(fdata['Room'], errors='coerce')  \n",
    "\n",
    "fdata = fdata.dropna(subset=['Price', 'Price(USD)','Room','Area'])\n",
    "fdata"
   ]
  },
  {
   "cell_type": "code",
   "execution_count": 7,
   "id": "63fdcedb",
   "metadata": {
    "execution": {
     "iopub.execute_input": "2025-03-25T19:49:53.553835Z",
     "iopub.status.busy": "2025-03-25T19:49:53.553428Z",
     "iopub.status.idle": "2025-03-25T19:49:53.576349Z",
     "shell.execute_reply": "2025-03-25T19:49:53.575277Z"
    },
    "papermill": {
     "duration": 0.038142,
     "end_time": "2025-03-25T19:49:53.578008",
     "exception": false,
     "start_time": "2025-03-25T19:49:53.539866",
     "status": "completed"
    },
    "tags": []
   },
   "outputs": [
    {
     "data": {
      "text/html": [
       "<div>\n",
       "<style scoped>\n",
       "    .dataframe tbody tr th:only-of-type {\n",
       "        vertical-align: middle;\n",
       "    }\n",
       "\n",
       "    .dataframe tbody tr th {\n",
       "        vertical-align: top;\n",
       "    }\n",
       "\n",
       "    .dataframe thead th {\n",
       "        text-align: right;\n",
       "    }\n",
       "</style>\n",
       "<table border=\"1\" class=\"dataframe\">\n",
       "  <thead>\n",
       "    <tr style=\"text-align: right;\">\n",
       "      <th></th>\n",
       "      <th>Area</th>\n",
       "      <th>Room</th>\n",
       "      <th>Parking</th>\n",
       "      <th>Warehouse</th>\n",
       "      <th>Elevator</th>\n",
       "      <th>Address</th>\n",
       "      <th>Price</th>\n",
       "      <th>Price(USD)</th>\n",
       "    </tr>\n",
       "  </thead>\n",
       "  <tbody>\n",
       "    <tr>\n",
       "      <th>0</th>\n",
       "      <td>63.0</td>\n",
       "      <td>1</td>\n",
       "      <td>True</td>\n",
       "      <td>True</td>\n",
       "      <td>True</td>\n",
       "      <td>Shahran</td>\n",
       "      <td>1,850,000,000.00</td>\n",
       "      <td>61,666.67</td>\n",
       "    </tr>\n",
       "    <tr>\n",
       "      <th>1</th>\n",
       "      <td>60.0</td>\n",
       "      <td>1</td>\n",
       "      <td>True</td>\n",
       "      <td>True</td>\n",
       "      <td>True</td>\n",
       "      <td>Shahran</td>\n",
       "      <td>1,850,000,000.00</td>\n",
       "      <td>61,666.67</td>\n",
       "    </tr>\n",
       "    <tr>\n",
       "      <th>2</th>\n",
       "      <td>79.0</td>\n",
       "      <td>2</td>\n",
       "      <td>True</td>\n",
       "      <td>True</td>\n",
       "      <td>True</td>\n",
       "      <td>Pardis</td>\n",
       "      <td>550,000,000.00</td>\n",
       "      <td>18,333.33</td>\n",
       "    </tr>\n",
       "    <tr>\n",
       "      <th>3</th>\n",
       "      <td>95.0</td>\n",
       "      <td>2</td>\n",
       "      <td>True</td>\n",
       "      <td>True</td>\n",
       "      <td>True</td>\n",
       "      <td>Shahrake Qods</td>\n",
       "      <td>902,500,000.00</td>\n",
       "      <td>30,083.33</td>\n",
       "    </tr>\n",
       "    <tr>\n",
       "      <th>4</th>\n",
       "      <td>123.0</td>\n",
       "      <td>2</td>\n",
       "      <td>True</td>\n",
       "      <td>True</td>\n",
       "      <td>True</td>\n",
       "      <td>Shahrake Gharb</td>\n",
       "      <td>7,000,000,000.00</td>\n",
       "      <td>233,333.33</td>\n",
       "    </tr>\n",
       "    <tr>\n",
       "      <th>...</th>\n",
       "      <td>...</td>\n",
       "      <td>...</td>\n",
       "      <td>...</td>\n",
       "      <td>...</td>\n",
       "      <td>...</td>\n",
       "      <td>...</td>\n",
       "      <td>...</td>\n",
       "      <td>...</td>\n",
       "    </tr>\n",
       "    <tr>\n",
       "      <th>3474</th>\n",
       "      <td>86.0</td>\n",
       "      <td>2</td>\n",
       "      <td>True</td>\n",
       "      <td>True</td>\n",
       "      <td>True</td>\n",
       "      <td>Southern Janatabad</td>\n",
       "      <td>3,500,000,000.00</td>\n",
       "      <td>116,666.67</td>\n",
       "    </tr>\n",
       "    <tr>\n",
       "      <th>3475</th>\n",
       "      <td>83.0</td>\n",
       "      <td>2</td>\n",
       "      <td>True</td>\n",
       "      <td>True</td>\n",
       "      <td>True</td>\n",
       "      <td>Niavaran</td>\n",
       "      <td>6,800,000,000.00</td>\n",
       "      <td>226,666.67</td>\n",
       "    </tr>\n",
       "    <tr>\n",
       "      <th>3476</th>\n",
       "      <td>75.0</td>\n",
       "      <td>2</td>\n",
       "      <td>False</td>\n",
       "      <td>False</td>\n",
       "      <td>False</td>\n",
       "      <td>Parand</td>\n",
       "      <td>365,000,000.00</td>\n",
       "      <td>12,166.67</td>\n",
       "    </tr>\n",
       "    <tr>\n",
       "      <th>3477</th>\n",
       "      <td>105.0</td>\n",
       "      <td>2</td>\n",
       "      <td>True</td>\n",
       "      <td>True</td>\n",
       "      <td>True</td>\n",
       "      <td>Dorous</td>\n",
       "      <td>5,600,000,000.00</td>\n",
       "      <td>186,666.67</td>\n",
       "    </tr>\n",
       "    <tr>\n",
       "      <th>3478</th>\n",
       "      <td>82.0</td>\n",
       "      <td>2</td>\n",
       "      <td>False</td>\n",
       "      <td>True</td>\n",
       "      <td>True</td>\n",
       "      <td>Parand</td>\n",
       "      <td>360,000,000.00</td>\n",
       "      <td>12,000.00</td>\n",
       "    </tr>\n",
       "  </tbody>\n",
       "</table>\n",
       "<p>3473 rows × 8 columns</p>\n",
       "</div>"
      ],
      "text/plain": [
       "       Area  Room  Parking  Warehouse  Elevator             Address  \\\n",
       "0      63.0     1     True       True      True             Shahran   \n",
       "1      60.0     1     True       True      True             Shahran   \n",
       "2      79.0     2     True       True      True              Pardis   \n",
       "3      95.0     2     True       True      True       Shahrake Qods   \n",
       "4     123.0     2     True       True      True      Shahrake Gharb   \n",
       "...     ...   ...      ...        ...       ...                 ...   \n",
       "3474   86.0     2     True       True      True  Southern Janatabad   \n",
       "3475   83.0     2     True       True      True            Niavaran   \n",
       "3476   75.0     2    False      False     False              Parand   \n",
       "3477  105.0     2     True       True      True              Dorous   \n",
       "3478   82.0     2    False       True      True              Parand   \n",
       "\n",
       "                 Price  Price(USD)  \n",
       "0     1,850,000,000.00   61,666.67  \n",
       "1     1,850,000,000.00   61,666.67  \n",
       "2       550,000,000.00   18,333.33  \n",
       "3       902,500,000.00   30,083.33  \n",
       "4     7,000,000,000.00  233,333.33  \n",
       "...                ...         ...  \n",
       "3474  3,500,000,000.00  116,666.67  \n",
       "3475  6,800,000,000.00  226,666.67  \n",
       "3476    365,000,000.00   12,166.67  \n",
       "3477  5,600,000,000.00  186,666.67  \n",
       "3478    360,000,000.00   12,000.00  \n",
       "\n",
       "[3473 rows x 8 columns]"
      ]
     },
     "execution_count": 7,
     "metadata": {},
     "output_type": "execute_result"
    }
   ],
   "source": [
    "fdata['Price'] = fdata['Price'].apply(lambda x: '{:,.2f}'.format(x))\n",
    "fdata['Price(USD)'] = fdata['Price(USD)'].apply(lambda x: '{:,.2f}'.format(x))\n",
    "fdata"
   ]
  },
  {
   "cell_type": "code",
   "execution_count": 8,
   "id": "7901c968",
   "metadata": {
    "execution": {
     "iopub.execute_input": "2025-03-25T19:49:53.605726Z",
     "iopub.status.busy": "2025-03-25T19:49:53.605331Z",
     "iopub.status.idle": "2025-03-25T19:49:53.610291Z",
     "shell.execute_reply": "2025-03-25T19:49:53.609202Z"
    },
    "papermill": {
     "duration": 0.020695,
     "end_time": "2025-03-25T19:49:53.611890",
     "exception": false,
     "start_time": "2025-03-25T19:49:53.591195",
     "status": "completed"
    },
    "tags": []
   },
   "outputs": [],
   "source": [
    "fdata.rename(columns={'Price(USD)': 'Price_USD'}, inplace=True)"
   ]
  },
  {
   "cell_type": "code",
   "execution_count": 9,
   "id": "22e94365",
   "metadata": {
    "execution": {
     "iopub.execute_input": "2025-03-25T19:49:53.641507Z",
     "iopub.status.busy": "2025-03-25T19:49:53.641178Z",
     "iopub.status.idle": "2025-03-25T19:49:53.650344Z",
     "shell.execute_reply": "2025-03-25T19:49:53.649450Z"
    },
    "papermill": {
     "duration": 0.02706,
     "end_time": "2025-03-25T19:49:53.652050",
     "exception": false,
     "start_time": "2025-03-25T19:49:53.624990",
     "status": "completed"
    },
    "tags": []
   },
   "outputs": [
    {
     "data": {
      "text/plain": [
       "Area          0\n",
       "Room          0\n",
       "Parking       0\n",
       "Warehouse     0\n",
       "Elevator      0\n",
       "Address      23\n",
       "Price         0\n",
       "Price_USD     0\n",
       "dtype: int64"
      ]
     },
     "execution_count": 9,
     "metadata": {},
     "output_type": "execute_result"
    }
   ],
   "source": [
    "fdata.isnull().sum()"
   ]
  },
  {
   "cell_type": "code",
   "execution_count": 10,
   "id": "102c4d32",
   "metadata": {
    "execution": {
     "iopub.execute_input": "2025-03-25T19:49:53.679860Z",
     "iopub.status.busy": "2025-03-25T19:49:53.679467Z",
     "iopub.status.idle": "2025-03-25T19:49:53.689403Z",
     "shell.execute_reply": "2025-03-25T19:49:53.688463Z"
    },
    "papermill": {
     "duration": 0.025697,
     "end_time": "2025-03-25T19:49:53.690998",
     "exception": false,
     "start_time": "2025-03-25T19:49:53.665301",
     "status": "completed"
    },
    "tags": []
   },
   "outputs": [
    {
     "data": {
      "text/plain": [
       "Area         0\n",
       "Room         0\n",
       "Parking      0\n",
       "Warehouse    0\n",
       "Elevator     0\n",
       "Address      0\n",
       "Price        0\n",
       "Price_USD    0\n",
       "dtype: int64"
      ]
     },
     "execution_count": 10,
     "metadata": {},
     "output_type": "execute_result"
    }
   ],
   "source": [
    "Cleaned_df=fdata.dropna()\n",
    "Cleaned_df.isnull().sum()"
   ]
  },
  {
   "cell_type": "markdown",
   "id": "c5ba419e",
   "metadata": {
    "papermill": {
     "duration": 0.01277,
     "end_time": "2025-03-25T19:49:53.717220",
     "exception": false,
     "start_time": "2025-03-25T19:49:53.704450",
     "status": "completed"
    },
    "tags": []
   },
   "source": [
    "apply dimensionality reduction technique"
   ]
  },
  {
   "cell_type": "code",
   "execution_count": 11,
   "id": "93719547",
   "metadata": {
    "execution": {
     "iopub.execute_input": "2025-03-25T19:49:53.745378Z",
     "iopub.status.busy": "2025-03-25T19:49:53.745046Z",
     "iopub.status.idle": "2025-03-25T19:49:53.753521Z",
     "shell.execute_reply": "2025-03-25T19:49:53.752609Z"
    },
    "papermill": {
     "duration": 0.024241,
     "end_time": "2025-03-25T19:49:53.755138",
     "exception": false,
     "start_time": "2025-03-25T19:49:53.730897",
     "status": "completed"
    },
    "tags": []
   },
   "outputs": [
    {
     "data": {
      "text/plain": [
       "Area\n",
       "30.0     1\n",
       "32.0     2\n",
       "33.0     1\n",
       "35.0     3\n",
       "37.0     8\n",
       "        ..\n",
       "705.0    1\n",
       "750.0    2\n",
       "863.0    1\n",
       "900.0    1\n",
       "929.0    1\n",
       "Name: Area, Length: 237, dtype: int64"
      ]
     },
     "execution_count": 11,
     "metadata": {},
     "output_type": "execute_result"
    }
   ],
   "source": [
    "Cleaned_df .groupby('Area')['Area'].agg('count')"
   ]
  },
  {
   "cell_type": "code",
   "execution_count": 12,
   "id": "9302c5c3",
   "metadata": {
    "execution": {
     "iopub.execute_input": "2025-03-25T19:49:53.784059Z",
     "iopub.status.busy": "2025-03-25T19:49:53.783709Z",
     "iopub.status.idle": "2025-03-25T19:49:53.791888Z",
     "shell.execute_reply": "2025-03-25T19:49:53.790914Z"
    },
    "papermill": {
     "duration": 0.024907,
     "end_time": "2025-03-25T19:49:53.793725",
     "exception": false,
     "start_time": "2025-03-25T19:49:53.768818",
     "status": "completed"
    },
    "tags": []
   },
   "outputs": [
    {
     "data": {
      "text/plain": [
       "Address\n",
       "Punak                     161\n",
       "Pardis                    146\n",
       "West Ferdows Boulevard    145\n",
       "Gheitarieh                140\n",
       "Shahran                   130\n",
       "                         ... \n",
       "Chardangeh                  1\n",
       "Mehrabad                    1\n",
       "Pakdasht KhatunAbad         1\n",
       "Kazemabad                   1\n",
       "Yakhchiabad                 1\n",
       "Name: count, Length: 192, dtype: int64"
      ]
     },
     "execution_count": 12,
     "metadata": {},
     "output_type": "execute_result"
    }
   ],
   "source": [
    "location_state=Cleaned_df['Address'].value_counts(ascending=False)\n",
    "location_state"
   ]
  },
  {
   "cell_type": "code",
   "execution_count": 13,
   "id": "f3f407f2",
   "metadata": {
    "execution": {
     "iopub.execute_input": "2025-03-25T19:49:53.822673Z",
     "iopub.status.busy": "2025-03-25T19:49:53.822311Z",
     "iopub.status.idle": "2025-03-25T19:49:53.828004Z",
     "shell.execute_reply": "2025-03-25T19:49:53.826969Z"
    },
    "papermill": {
     "duration": 0.02221,
     "end_time": "2025-03-25T19:49:53.829708",
     "exception": false,
     "start_time": "2025-03-25T19:49:53.807498",
     "status": "completed"
    },
    "tags": []
   },
   "outputs": [
    {
     "data": {
      "text/plain": [
       "3450"
      ]
     },
     "execution_count": 13,
     "metadata": {},
     "output_type": "execute_result"
    }
   ],
   "source": [
    "location_state.values.sum()"
   ]
  },
  {
   "cell_type": "code",
   "execution_count": 14,
   "id": "9c253a88",
   "metadata": {
    "execution": {
     "iopub.execute_input": "2025-03-25T19:49:53.859884Z",
     "iopub.status.busy": "2025-03-25T19:49:53.859493Z",
     "iopub.status.idle": "2025-03-25T19:49:53.865909Z",
     "shell.execute_reply": "2025-03-25T19:49:53.865043Z"
    },
    "papermill": {
     "duration": 0.023966,
     "end_time": "2025-03-25T19:49:53.867372",
     "exception": false,
     "start_time": "2025-03-25T19:49:53.843406",
     "status": "completed"
    },
    "tags": []
   },
   "outputs": [
    {
     "data": {
      "text/plain": [
       "64"
      ]
     },
     "execution_count": 14,
     "metadata": {},
     "output_type": "execute_result"
    }
   ],
   "source": [
    "len(location_state[location_state>10])"
   ]
  },
  {
   "cell_type": "code",
   "execution_count": 15,
   "id": "8b65ce9c",
   "metadata": {
    "execution": {
     "iopub.execute_input": "2025-03-25T19:49:53.896292Z",
     "iopub.status.busy": "2025-03-25T19:49:53.895952Z",
     "iopub.status.idle": "2025-03-25T19:49:53.901620Z",
     "shell.execute_reply": "2025-03-25T19:49:53.900551Z"
    },
    "papermill": {
     "duration": 0.021689,
     "end_time": "2025-03-25T19:49:53.903190",
     "exception": false,
     "start_time": "2025-03-25T19:49:53.881501",
     "status": "completed"
    },
    "tags": []
   },
   "outputs": [
    {
     "data": {
      "text/plain": [
       "192"
      ]
     },
     "execution_count": 15,
     "metadata": {},
     "output_type": "execute_result"
    }
   ],
   "source": [
    "len(location_state)"
   ]
  },
  {
   "cell_type": "code",
   "execution_count": 16,
   "id": "b75adeb1",
   "metadata": {
    "execution": {
     "iopub.execute_input": "2025-03-25T19:49:53.933005Z",
     "iopub.status.busy": "2025-03-25T19:49:53.932663Z",
     "iopub.status.idle": "2025-03-25T19:49:53.939006Z",
     "shell.execute_reply": "2025-03-25T19:49:53.937899Z"
    },
    "papermill": {
     "duration": 0.022904,
     "end_time": "2025-03-25T19:49:53.940758",
     "exception": false,
     "start_time": "2025-03-25T19:49:53.917854",
     "status": "completed"
    },
    "tags": []
   },
   "outputs": [
    {
     "data": {
      "text/plain": [
       "128"
      ]
     },
     "execution_count": 16,
     "metadata": {},
     "output_type": "execute_result"
    }
   ],
   "source": [
    "len(location_state[location_state<=10])"
   ]
  },
  {
   "cell_type": "code",
   "execution_count": 17,
   "id": "7271b4c0",
   "metadata": {
    "execution": {
     "iopub.execute_input": "2025-03-25T19:49:53.969962Z",
     "iopub.status.busy": "2025-03-25T19:49:53.969611Z",
     "iopub.status.idle": "2025-03-25T19:49:53.977047Z",
     "shell.execute_reply": "2025-03-25T19:49:53.976190Z"
    },
    "papermill": {
     "duration": 0.023897,
     "end_time": "2025-03-25T19:49:53.978674",
     "exception": false,
     "start_time": "2025-03-25T19:49:53.954777",
     "status": "completed"
    },
    "tags": []
   },
   "outputs": [
    {
     "data": {
      "text/plain": [
       "Address\n",
       "Zafar                  10\n",
       "Gholhak                10\n",
       "Ozgol                  10\n",
       "Air force              10\n",
       "Gisha                   9\n",
       "                       ..\n",
       "Chardangeh              1\n",
       "Mehrabad                1\n",
       "Pakdasht KhatunAbad     1\n",
       "Kazemabad               1\n",
       "Yakhchiabad             1\n",
       "Name: count, Length: 128, dtype: int64"
      ]
     },
     "execution_count": 17,
     "metadata": {},
     "output_type": "execute_result"
    }
   ],
   "source": [
    "location_stats_less10 = location_state[location_state<=10]\n",
    "location_stats_less10"
   ]
  },
  {
   "cell_type": "code",
   "execution_count": 18,
   "id": "49a4428c",
   "metadata": {
    "execution": {
     "iopub.execute_input": "2025-03-25T19:49:54.007556Z",
     "iopub.status.busy": "2025-03-25T19:49:54.007201Z",
     "iopub.status.idle": "2025-03-25T19:49:54.013565Z",
     "shell.execute_reply": "2025-03-25T19:49:54.012449Z"
    },
    "papermill": {
     "duration": 0.022984,
     "end_time": "2025-03-25T19:49:54.015484",
     "exception": false,
     "start_time": "2025-03-25T19:49:53.992500",
     "status": "completed"
    },
    "tags": []
   },
   "outputs": [
    {
     "data": {
      "text/plain": [
       "192"
      ]
     },
     "execution_count": 18,
     "metadata": {},
     "output_type": "execute_result"
    }
   ],
   "source": [
    "len(Cleaned_df.Address.unique())"
   ]
  },
  {
   "cell_type": "code",
   "execution_count": 19,
   "id": "e0b5b982",
   "metadata": {
    "execution": {
     "iopub.execute_input": "2025-03-25T19:49:54.045333Z",
     "iopub.status.busy": "2025-03-25T19:49:54.044966Z",
     "iopub.status.idle": "2025-03-25T19:49:54.064173Z",
     "shell.execute_reply": "2025-03-25T19:49:54.063257Z"
    },
    "papermill": {
     "duration": 0.035766,
     "end_time": "2025-03-25T19:49:54.065792",
     "exception": false,
     "start_time": "2025-03-25T19:49:54.030026",
     "status": "completed"
    },
    "tags": []
   },
   "outputs": [
    {
     "data": {
      "text/html": [
       "<div>\n",
       "<style scoped>\n",
       "    .dataframe tbody tr th:only-of-type {\n",
       "        vertical-align: middle;\n",
       "    }\n",
       "\n",
       "    .dataframe tbody tr th {\n",
       "        vertical-align: top;\n",
       "    }\n",
       "\n",
       "    .dataframe thead th {\n",
       "        text-align: right;\n",
       "    }\n",
       "</style>\n",
       "<table border=\"1\" class=\"dataframe\">\n",
       "  <thead>\n",
       "    <tr style=\"text-align: right;\">\n",
       "      <th></th>\n",
       "      <th>Area</th>\n",
       "      <th>Room</th>\n",
       "      <th>Parking</th>\n",
       "      <th>Warehouse</th>\n",
       "      <th>Elevator</th>\n",
       "      <th>Address</th>\n",
       "      <th>Price</th>\n",
       "      <th>Price_USD</th>\n",
       "    </tr>\n",
       "  </thead>\n",
       "  <tbody>\n",
       "    <tr>\n",
       "      <th>0</th>\n",
       "      <td>63</td>\n",
       "      <td>1</td>\n",
       "      <td>True</td>\n",
       "      <td>True</td>\n",
       "      <td>True</td>\n",
       "      <td>Shahran</td>\n",
       "      <td>1,850,000,000.00</td>\n",
       "      <td>61,666.67</td>\n",
       "    </tr>\n",
       "    <tr>\n",
       "      <th>1</th>\n",
       "      <td>60</td>\n",
       "      <td>1</td>\n",
       "      <td>True</td>\n",
       "      <td>True</td>\n",
       "      <td>True</td>\n",
       "      <td>Shahran</td>\n",
       "      <td>1,850,000,000.00</td>\n",
       "      <td>61,666.67</td>\n",
       "    </tr>\n",
       "    <tr>\n",
       "      <th>2</th>\n",
       "      <td>79</td>\n",
       "      <td>2</td>\n",
       "      <td>True</td>\n",
       "      <td>True</td>\n",
       "      <td>True</td>\n",
       "      <td>Pardis</td>\n",
       "      <td>550,000,000.00</td>\n",
       "      <td>18,333.33</td>\n",
       "    </tr>\n",
       "    <tr>\n",
       "      <th>3</th>\n",
       "      <td>95</td>\n",
       "      <td>2</td>\n",
       "      <td>True</td>\n",
       "      <td>True</td>\n",
       "      <td>True</td>\n",
       "      <td>Shahrake Qods</td>\n",
       "      <td>902,500,000.00</td>\n",
       "      <td>30,083.33</td>\n",
       "    </tr>\n",
       "    <tr>\n",
       "      <th>4</th>\n",
       "      <td>123</td>\n",
       "      <td>2</td>\n",
       "      <td>True</td>\n",
       "      <td>True</td>\n",
       "      <td>True</td>\n",
       "      <td>Shahrake Gharb</td>\n",
       "      <td>7,000,000,000.00</td>\n",
       "      <td>233,333.33</td>\n",
       "    </tr>\n",
       "  </tbody>\n",
       "</table>\n",
       "</div>"
      ],
      "text/plain": [
       "   Area  Room  Parking  Warehouse  Elevator         Address             Price  \\\n",
       "0    63     1     True       True      True         Shahran  1,850,000,000.00   \n",
       "1    60     1     True       True      True         Shahran  1,850,000,000.00   \n",
       "2    79     2     True       True      True          Pardis    550,000,000.00   \n",
       "3    95     2     True       True      True   Shahrake Qods    902,500,000.00   \n",
       "4   123     2     True       True      True  Shahrake Gharb  7,000,000,000.00   \n",
       "\n",
       "    Price_USD  \n",
       "0   61,666.67  \n",
       "1   61,666.67  \n",
       "2   18,333.33  \n",
       "3   30,083.33  \n",
       "4  233,333.33  "
      ]
     },
     "execution_count": 19,
     "metadata": {},
     "output_type": "execute_result"
    }
   ],
   "source": [
    "pd.options.display.float_format = '{:.0f}'.format  \n",
    "Cleaned_df.Address = Cleaned_df.Address.apply(lambda x: 'other' if x in location_stats_less10 else x)\n",
    "len(Cleaned_df.Address.unique())\n",
    "Cleaned_df.head()"
   ]
  },
  {
   "cell_type": "markdown",
   "id": "0b001b9c",
   "metadata": {
    "papermill": {
     "duration": 0.014228,
     "end_time": "2025-03-25T19:49:54.094437",
     "exception": false,
     "start_time": "2025-03-25T19:49:54.080209",
     "status": "completed"
    },
    "tags": []
   },
   "source": [
    "Otlier Detection"
   ]
  },
  {
   "cell_type": "markdown",
   "id": "bba94d73",
   "metadata": {
    "papermill": {
     "duration": 0.014362,
     "end_time": "2025-03-25T19:49:54.123142",
     "exception": false,
     "start_time": "2025-03-25T19:49:54.108780",
     "status": "completed"
    },
    "tags": []
   },
   "source": [
    "Removing houses larger than 1000 Meters "
   ]
  },
  {
   "cell_type": "code",
   "execution_count": 20,
   "id": "aad7c89e",
   "metadata": {
    "execution": {
     "iopub.execute_input": "2025-03-25T19:49:54.152972Z",
     "iopub.status.busy": "2025-03-25T19:49:54.152622Z",
     "iopub.status.idle": "2025-03-25T19:49:54.167954Z",
     "shell.execute_reply": "2025-03-25T19:49:54.166855Z"
    },
    "papermill": {
     "duration": 0.032033,
     "end_time": "2025-03-25T19:49:54.169678",
     "exception": false,
     "start_time": "2025-03-25T19:49:54.137645",
     "status": "completed"
    },
    "tags": []
   },
   "outputs": [
    {
     "data": {
      "text/html": [
       "<div>\n",
       "<style scoped>\n",
       "    .dataframe tbody tr th:only-of-type {\n",
       "        vertical-align: middle;\n",
       "    }\n",
       "\n",
       "    .dataframe tbody tr th {\n",
       "        vertical-align: top;\n",
       "    }\n",
       "\n",
       "    .dataframe thead th {\n",
       "        text-align: right;\n",
       "    }\n",
       "</style>\n",
       "<table border=\"1\" class=\"dataframe\">\n",
       "  <thead>\n",
       "    <tr style=\"text-align: right;\">\n",
       "      <th></th>\n",
       "      <th>Area</th>\n",
       "      <th>Room</th>\n",
       "      <th>Parking</th>\n",
       "      <th>Warehouse</th>\n",
       "      <th>Elevator</th>\n",
       "      <th>Address</th>\n",
       "      <th>Price</th>\n",
       "      <th>Price_USD</th>\n",
       "    </tr>\n",
       "  </thead>\n",
       "  <tbody>\n",
       "    <tr>\n",
       "      <th>0</th>\n",
       "      <td>63</td>\n",
       "      <td>1</td>\n",
       "      <td>True</td>\n",
       "      <td>True</td>\n",
       "      <td>True</td>\n",
       "      <td>Shahran</td>\n",
       "      <td>1,850,000,000.00</td>\n",
       "      <td>61,666.67</td>\n",
       "    </tr>\n",
       "    <tr>\n",
       "      <th>1</th>\n",
       "      <td>60</td>\n",
       "      <td>1</td>\n",
       "      <td>True</td>\n",
       "      <td>True</td>\n",
       "      <td>True</td>\n",
       "      <td>Shahran</td>\n",
       "      <td>1,850,000,000.00</td>\n",
       "      <td>61,666.67</td>\n",
       "    </tr>\n",
       "    <tr>\n",
       "      <th>2</th>\n",
       "      <td>79</td>\n",
       "      <td>2</td>\n",
       "      <td>True</td>\n",
       "      <td>True</td>\n",
       "      <td>True</td>\n",
       "      <td>Pardis</td>\n",
       "      <td>550,000,000.00</td>\n",
       "      <td>18,333.33</td>\n",
       "    </tr>\n",
       "    <tr>\n",
       "      <th>3</th>\n",
       "      <td>95</td>\n",
       "      <td>2</td>\n",
       "      <td>True</td>\n",
       "      <td>True</td>\n",
       "      <td>True</td>\n",
       "      <td>Shahrake Qods</td>\n",
       "      <td>902,500,000.00</td>\n",
       "      <td>30,083.33</td>\n",
       "    </tr>\n",
       "    <tr>\n",
       "      <th>4</th>\n",
       "      <td>123</td>\n",
       "      <td>2</td>\n",
       "      <td>True</td>\n",
       "      <td>True</td>\n",
       "      <td>True</td>\n",
       "      <td>Shahrake Gharb</td>\n",
       "      <td>7,000,000,000.00</td>\n",
       "      <td>233,333.33</td>\n",
       "    </tr>\n",
       "    <tr>\n",
       "      <th>...</th>\n",
       "      <td>...</td>\n",
       "      <td>...</td>\n",
       "      <td>...</td>\n",
       "      <td>...</td>\n",
       "      <td>...</td>\n",
       "      <td>...</td>\n",
       "      <td>...</td>\n",
       "      <td>...</td>\n",
       "    </tr>\n",
       "    <tr>\n",
       "      <th>3474</th>\n",
       "      <td>86</td>\n",
       "      <td>2</td>\n",
       "      <td>True</td>\n",
       "      <td>True</td>\n",
       "      <td>True</td>\n",
       "      <td>Southern Janatabad</td>\n",
       "      <td>3,500,000,000.00</td>\n",
       "      <td>116,666.67</td>\n",
       "    </tr>\n",
       "    <tr>\n",
       "      <th>3475</th>\n",
       "      <td>83</td>\n",
       "      <td>2</td>\n",
       "      <td>True</td>\n",
       "      <td>True</td>\n",
       "      <td>True</td>\n",
       "      <td>Niavaran</td>\n",
       "      <td>6,800,000,000.00</td>\n",
       "      <td>226,666.67</td>\n",
       "    </tr>\n",
       "    <tr>\n",
       "      <th>3476</th>\n",
       "      <td>75</td>\n",
       "      <td>2</td>\n",
       "      <td>False</td>\n",
       "      <td>False</td>\n",
       "      <td>False</td>\n",
       "      <td>Parand</td>\n",
       "      <td>365,000,000.00</td>\n",
       "      <td>12,166.67</td>\n",
       "    </tr>\n",
       "    <tr>\n",
       "      <th>3477</th>\n",
       "      <td>105</td>\n",
       "      <td>2</td>\n",
       "      <td>True</td>\n",
       "      <td>True</td>\n",
       "      <td>True</td>\n",
       "      <td>Dorous</td>\n",
       "      <td>5,600,000,000.00</td>\n",
       "      <td>186,666.67</td>\n",
       "    </tr>\n",
       "    <tr>\n",
       "      <th>3478</th>\n",
       "      <td>82</td>\n",
       "      <td>2</td>\n",
       "      <td>False</td>\n",
       "      <td>True</td>\n",
       "      <td>True</td>\n",
       "      <td>Parand</td>\n",
       "      <td>360,000,000.00</td>\n",
       "      <td>12,000.00</td>\n",
       "    </tr>\n",
       "  </tbody>\n",
       "</table>\n",
       "<p>3450 rows × 8 columns</p>\n",
       "</div>"
      ],
      "text/plain": [
       "      Area  Room  Parking  Warehouse  Elevator             Address  \\\n",
       "0       63     1     True       True      True             Shahran   \n",
       "1       60     1     True       True      True             Shahran   \n",
       "2       79     2     True       True      True              Pardis   \n",
       "3       95     2     True       True      True       Shahrake Qods   \n",
       "4      123     2     True       True      True      Shahrake Gharb   \n",
       "...    ...   ...      ...        ...       ...                 ...   \n",
       "3474    86     2     True       True      True  Southern Janatabad   \n",
       "3475    83     2     True       True      True            Niavaran   \n",
       "3476    75     2    False      False     False              Parand   \n",
       "3477   105     2     True       True      True              Dorous   \n",
       "3478    82     2    False       True      True              Parand   \n",
       "\n",
       "                 Price   Price_USD  \n",
       "0     1,850,000,000.00   61,666.67  \n",
       "1     1,850,000,000.00   61,666.67  \n",
       "2       550,000,000.00   18,333.33  \n",
       "3       902,500,000.00   30,083.33  \n",
       "4     7,000,000,000.00  233,333.33  \n",
       "...                ...         ...  \n",
       "3474  3,500,000,000.00  116,666.67  \n",
       "3475  6,800,000,000.00  226,666.67  \n",
       "3476    365,000,000.00   12,166.67  \n",
       "3477  5,600,000,000.00  186,666.67  \n",
       "3478    360,000,000.00   12,000.00  \n",
       "\n",
       "[3450 rows x 8 columns]"
      ]
     },
     "execution_count": 20,
     "metadata": {},
     "output_type": "execute_result"
    }
   ],
   "source": [
    "ou_data=Cleaned_df.copy()\n",
    "ou_data =ou_data[ou_data['Area'] <= 1000]\n",
    "ou_data"
   ]
  },
  {
   "cell_type": "code",
   "execution_count": 21,
   "id": "8191afdc",
   "metadata": {
    "execution": {
     "iopub.execute_input": "2025-03-25T19:49:54.200384Z",
     "iopub.status.busy": "2025-03-25T19:49:54.199990Z",
     "iopub.status.idle": "2025-03-25T19:49:54.206831Z",
     "shell.execute_reply": "2025-03-25T19:49:54.205784Z"
    },
    "papermill": {
     "duration": 0.024078,
     "end_time": "2025-03-25T19:49:54.208581",
     "exception": false,
     "start_time": "2025-03-25T19:49:54.184503",
     "status": "completed"
    },
    "tags": []
   },
   "outputs": [
    {
     "data": {
      "text/plain": [
       "array([1, 2, 3, 0, 4, 5])"
      ]
     },
     "execution_count": 21,
     "metadata": {},
     "output_type": "execute_result"
    }
   ],
   "source": [
    "ou_data['Room'].unique()"
   ]
  },
  {
   "cell_type": "code",
   "execution_count": 22,
   "id": "ee25dfaa",
   "metadata": {
    "execution": {
     "iopub.execute_input": "2025-03-25T19:49:54.239136Z",
     "iopub.status.busy": "2025-03-25T19:49:54.238786Z",
     "iopub.status.idle": "2025-03-25T19:49:54.251289Z",
     "shell.execute_reply": "2025-03-25T19:49:54.250307Z"
    },
    "papermill": {
     "duration": 0.029712,
     "end_time": "2025-03-25T19:49:54.252927",
     "exception": false,
     "start_time": "2025-03-25T19:49:54.223215",
     "status": "completed"
    },
    "tags": []
   },
   "outputs": [
    {
     "data": {
      "text/html": [
       "<div>\n",
       "<style scoped>\n",
       "    .dataframe tbody tr th:only-of-type {\n",
       "        vertical-align: middle;\n",
       "    }\n",
       "\n",
       "    .dataframe tbody tr th {\n",
       "        vertical-align: top;\n",
       "    }\n",
       "\n",
       "    .dataframe thead th {\n",
       "        text-align: right;\n",
       "    }\n",
       "</style>\n",
       "<table border=\"1\" class=\"dataframe\">\n",
       "  <thead>\n",
       "    <tr style=\"text-align: right;\">\n",
       "      <th></th>\n",
       "      <th>Area</th>\n",
       "      <th>Room</th>\n",
       "      <th>Parking</th>\n",
       "      <th>Warehouse</th>\n",
       "      <th>Elevator</th>\n",
       "      <th>Address</th>\n",
       "      <th>Price</th>\n",
       "      <th>Price_USD</th>\n",
       "    </tr>\n",
       "  </thead>\n",
       "  <tbody>\n",
       "    <tr>\n",
       "      <th>103</th>\n",
       "      <td>40</td>\n",
       "      <td>0</td>\n",
       "      <td>False</td>\n",
       "      <td>False</td>\n",
       "      <td>False</td>\n",
       "      <td>Shahrake Qods</td>\n",
       "      <td>248,000,000.00</td>\n",
       "      <td>8,266.67</td>\n",
       "    </tr>\n",
       "    <tr>\n",
       "      <th>137</th>\n",
       "      <td>40</td>\n",
       "      <td>0</td>\n",
       "      <td>False</td>\n",
       "      <td>False</td>\n",
       "      <td>False</td>\n",
       "      <td>Pakdasht</td>\n",
       "      <td>165,000,000.00</td>\n",
       "      <td>5,500.00</td>\n",
       "    </tr>\n",
       "    <tr>\n",
       "      <th>1169</th>\n",
       "      <td>40</td>\n",
       "      <td>0</td>\n",
       "      <td>False</td>\n",
       "      <td>True</td>\n",
       "      <td>False</td>\n",
       "      <td>Ostad Moein</td>\n",
       "      <td>650,000,000.00</td>\n",
       "      <td>21,666.67</td>\n",
       "    </tr>\n",
       "    <tr>\n",
       "      <th>2084</th>\n",
       "      <td>40</td>\n",
       "      <td>0</td>\n",
       "      <td>False</td>\n",
       "      <td>False</td>\n",
       "      <td>False</td>\n",
       "      <td>Pakdasht</td>\n",
       "      <td>165,000,000.00</td>\n",
       "      <td>5,500.00</td>\n",
       "    </tr>\n",
       "    <tr>\n",
       "      <th>2103</th>\n",
       "      <td>43</td>\n",
       "      <td>0</td>\n",
       "      <td>False</td>\n",
       "      <td>True</td>\n",
       "      <td>False</td>\n",
       "      <td>other</td>\n",
       "      <td>360,000,000.00</td>\n",
       "      <td>12,000.00</td>\n",
       "    </tr>\n",
       "    <tr>\n",
       "      <th>2625</th>\n",
       "      <td>50</td>\n",
       "      <td>0</td>\n",
       "      <td>True</td>\n",
       "      <td>True</td>\n",
       "      <td>True</td>\n",
       "      <td>Northern Chitgar</td>\n",
       "      <td>345,000,000.00</td>\n",
       "      <td>11,500.00</td>\n",
       "    </tr>\n",
       "    <tr>\n",
       "      <th>2721</th>\n",
       "      <td>110</td>\n",
       "      <td>0</td>\n",
       "      <td>True</td>\n",
       "      <td>True</td>\n",
       "      <td>True</td>\n",
       "      <td>Parand</td>\n",
       "      <td>102,000,000.00</td>\n",
       "      <td>3,400.00</td>\n",
       "    </tr>\n",
       "    <tr>\n",
       "      <th>3107</th>\n",
       "      <td>630</td>\n",
       "      <td>0</td>\n",
       "      <td>False</td>\n",
       "      <td>False</td>\n",
       "      <td>False</td>\n",
       "      <td>other</td>\n",
       "      <td>75,600,000,000.00</td>\n",
       "      <td>2,520,000.00</td>\n",
       "    </tr>\n",
       "    <tr>\n",
       "      <th>3211</th>\n",
       "      <td>30</td>\n",
       "      <td>0</td>\n",
       "      <td>False</td>\n",
       "      <td>True</td>\n",
       "      <td>False</td>\n",
       "      <td>Ostad Moein</td>\n",
       "      <td>500,000,000.00</td>\n",
       "      <td>16,666.67</td>\n",
       "    </tr>\n",
       "    <tr>\n",
       "      <th>3435</th>\n",
       "      <td>54</td>\n",
       "      <td>0</td>\n",
       "      <td>False</td>\n",
       "      <td>False</td>\n",
       "      <td>False</td>\n",
       "      <td>Shahrake Qods</td>\n",
       "      <td>470,000,000.00</td>\n",
       "      <td>15,666.67</td>\n",
       "    </tr>\n",
       "  </tbody>\n",
       "</table>\n",
       "</div>"
      ],
      "text/plain": [
       "      Area  Room  Parking  Warehouse  Elevator           Address  \\\n",
       "103     40     0    False      False     False     Shahrake Qods   \n",
       "137     40     0    False      False     False          Pakdasht   \n",
       "1169    40     0    False       True     False       Ostad Moein   \n",
       "2084    40     0    False      False     False          Pakdasht   \n",
       "2103    43     0    False       True     False             other   \n",
       "2625    50     0     True       True      True  Northern Chitgar   \n",
       "2721   110     0     True       True      True            Parand   \n",
       "3107   630     0    False      False     False             other   \n",
       "3211    30     0    False       True     False       Ostad Moein   \n",
       "3435    54     0    False      False     False     Shahrake Qods   \n",
       "\n",
       "                  Price     Price_USD  \n",
       "103      248,000,000.00      8,266.67  \n",
       "137      165,000,000.00      5,500.00  \n",
       "1169     650,000,000.00     21,666.67  \n",
       "2084     165,000,000.00      5,500.00  \n",
       "2103     360,000,000.00     12,000.00  \n",
       "2625     345,000,000.00     11,500.00  \n",
       "2721     102,000,000.00      3,400.00  \n",
       "3107  75,600,000,000.00  2,520,000.00  \n",
       "3211     500,000,000.00     16,666.67  \n",
       "3435     470,000,000.00     15,666.67  "
      ]
     },
     "execution_count": 22,
     "metadata": {},
     "output_type": "execute_result"
    }
   ],
   "source": [
    "ou_data[ou_data['Room']==0]"
   ]
  },
  {
   "cell_type": "code",
   "execution_count": 23,
   "id": "2cdda6c9",
   "metadata": {
    "execution": {
     "iopub.execute_input": "2025-03-25T19:49:54.284291Z",
     "iopub.status.busy": "2025-03-25T19:49:54.283937Z",
     "iopub.status.idle": "2025-03-25T19:49:54.297722Z",
     "shell.execute_reply": "2025-03-25T19:49:54.296770Z"
    },
    "papermill": {
     "duration": 0.031047,
     "end_time": "2025-03-25T19:49:54.299300",
     "exception": false,
     "start_time": "2025-03-25T19:49:54.268253",
     "status": "completed"
    },
    "tags": []
   },
   "outputs": [
    {
     "data": {
      "text/plain": [
       "count    33\n",
       "mean    383\n",
       "std     210\n",
       "min      58\n",
       "25%     245\n",
       "50%     350\n",
       "75%     420\n",
       "max     929\n",
       "Name: Area, dtype: float64"
      ]
     },
     "execution_count": 23,
     "metadata": {},
     "output_type": "execute_result"
    }
   ],
   "source": [
    "ou_data[ou_data['Room'] == 5]['Area'].describe()"
   ]
  },
  {
   "cell_type": "code",
   "execution_count": 24,
   "id": "9da66768",
   "metadata": {
    "execution": {
     "iopub.execute_input": "2025-03-25T19:49:54.330294Z",
     "iopub.status.busy": "2025-03-25T19:49:54.329960Z",
     "iopub.status.idle": "2025-03-25T19:49:54.887212Z",
     "shell.execute_reply": "2025-03-25T19:49:54.885931Z"
    },
    "papermill": {
     "duration": 0.575557,
     "end_time": "2025-03-25T19:49:54.889702",
     "exception": false,
     "start_time": "2025-03-25T19:49:54.314145",
     "status": "completed"
    },
    "tags": []
   },
   "outputs": [
    {
     "data": {
      "image/png": "[encoded data removed]",
      "text/plain": [
       "<Figure size 2000x1000 with 1 Axes>"
      ]
     },
     "metadata": {},
     "output_type": "display_data"
    }
   ],
   "source": [
    "ou_data[ou_data['Room'] == 5]['Area'].hist(bins=50)\n",
    "plt.xlabel('Area (sqm)')\n",
    "plt.ylabel('Count')\n",
    "plt.title('Distribution of 5-Bedroom Apartment Sizes')\n",
    "plt.show()"
   ]
  },
  {
   "cell_type": "code",
   "execution_count": 25,
   "id": "15afe3e9",
   "metadata": {
    "execution": {
     "iopub.execute_input": "2025-03-25T19:49:54.922691Z",
     "iopub.status.busy": "2025-03-25T19:49:54.922279Z",
     "iopub.status.idle": "2025-03-25T19:49:54.930203Z",
     "shell.execute_reply": "2025-03-25T19:49:54.929144Z"
    },
    "papermill": {
     "duration": 0.025636,
     "end_time": "2025-03-25T19:49:54.931719",
     "exception": false,
     "start_time": "2025-03-25T19:49:54.906083",
     "status": "completed"
    },
    "tags": []
   },
   "outputs": [
    {
     "data": {
      "text/plain": [
       "True"
      ]
     },
     "execution_count": 25,
     "metadata": {},
     "output_type": "execute_result"
    }
   ],
   "source": [
    "ou_data[(ou_data['Area'] < 35) & (ou_data['Room'] == 0)].shape[0] > 0"
   ]
  },
  {
   "cell_type": "code",
   "execution_count": 26,
   "id": "03254457",
   "metadata": {
    "execution": {
     "iopub.execute_input": "2025-03-25T19:49:54.972730Z",
     "iopub.status.busy": "2025-03-25T19:49:54.972171Z",
     "iopub.status.idle": "2025-03-25T19:49:54.982071Z",
     "shell.execute_reply": "2025-03-25T19:49:54.980825Z"
    },
    "papermill": {
     "duration": 0.030586,
     "end_time": "2025-03-25T19:49:54.984326",
     "exception": false,
     "start_time": "2025-03-25T19:49:54.953740",
     "status": "completed"
    },
    "tags": []
   },
   "outputs": [
    {
     "data": {
      "text/plain": [
       "12"
      ]
     },
     "execution_count": 26,
     "metadata": {},
     "output_type": "execute_result"
    }
   ],
   "source": [
    "ou_data[(ou_data['Room'] == 2) & (ou_data['Area'] < 55)].shape[0]\n"
   ]
  },
  {
   "cell_type": "code",
   "execution_count": 27,
   "id": "533b1f84",
   "metadata": {
    "execution": {
     "iopub.execute_input": "2025-03-25T19:49:55.032450Z",
     "iopub.status.busy": "2025-03-25T19:49:55.032118Z",
     "iopub.status.idle": "2025-03-25T19:49:55.046037Z",
     "shell.execute_reply": "2025-03-25T19:49:55.045082Z"
    },
    "papermill": {
     "duration": 0.03902,
     "end_time": "2025-03-25T19:49:55.047641",
     "exception": false,
     "start_time": "2025-03-25T19:49:55.008621",
     "status": "completed"
    },
    "tags": []
   },
   "outputs": [
    {
     "data": {
      "text/html": [
       "<div>\n",
       "<style scoped>\n",
       "    .dataframe tbody tr th:only-of-type {\n",
       "        vertical-align: middle;\n",
       "    }\n",
       "\n",
       "    .dataframe tbody tr th {\n",
       "        vertical-align: top;\n",
       "    }\n",
       "\n",
       "    .dataframe thead th {\n",
       "        text-align: right;\n",
       "    }\n",
       "</style>\n",
       "<table border=\"1\" class=\"dataframe\">\n",
       "  <thead>\n",
       "    <tr style=\"text-align: right;\">\n",
       "      <th></th>\n",
       "      <th>Area</th>\n",
       "      <th>Room</th>\n",
       "      <th>Parking</th>\n",
       "      <th>Warehouse</th>\n",
       "      <th>Elevator</th>\n",
       "      <th>Address</th>\n",
       "      <th>Price</th>\n",
       "      <th>Price_USD</th>\n",
       "    </tr>\n",
       "  </thead>\n",
       "  <tbody>\n",
       "    <tr>\n",
       "      <th>8</th>\n",
       "      <td>54</td>\n",
       "      <td>2</td>\n",
       "      <td>True</td>\n",
       "      <td>True</td>\n",
       "      <td>False</td>\n",
       "      <td>Andisheh</td>\n",
       "      <td>493,000,000.00</td>\n",
       "      <td>16,433.33</td>\n",
       "    </tr>\n",
       "    <tr>\n",
       "      <th>776</th>\n",
       "      <td>54</td>\n",
       "      <td>2</td>\n",
       "      <td>True</td>\n",
       "      <td>True</td>\n",
       "      <td>False</td>\n",
       "      <td>Shahran</td>\n",
       "      <td>1,850,000,000.00</td>\n",
       "      <td>61,666.67</td>\n",
       "    </tr>\n",
       "    <tr>\n",
       "      <th>846</th>\n",
       "      <td>51</td>\n",
       "      <td>2</td>\n",
       "      <td>False</td>\n",
       "      <td>True</td>\n",
       "      <td>True</td>\n",
       "      <td>Komeil</td>\n",
       "      <td>1,050,000,000.00</td>\n",
       "      <td>35,000.00</td>\n",
       "    </tr>\n",
       "    <tr>\n",
       "      <th>1929</th>\n",
       "      <td>50</td>\n",
       "      <td>2</td>\n",
       "      <td>True</td>\n",
       "      <td>True</td>\n",
       "      <td>False</td>\n",
       "      <td>Shahran</td>\n",
       "      <td>1,820,000,000.00</td>\n",
       "      <td>60,666.67</td>\n",
       "    </tr>\n",
       "    <tr>\n",
       "      <th>2160</th>\n",
       "      <td>51</td>\n",
       "      <td>2</td>\n",
       "      <td>True</td>\n",
       "      <td>True</td>\n",
       "      <td>False</td>\n",
       "      <td>Shahran</td>\n",
       "      <td>1,850,000,000.00</td>\n",
       "      <td>61,666.67</td>\n",
       "    </tr>\n",
       "    <tr>\n",
       "      <th>2341</th>\n",
       "      <td>53</td>\n",
       "      <td>2</td>\n",
       "      <td>True</td>\n",
       "      <td>True</td>\n",
       "      <td>False</td>\n",
       "      <td>Jeyhoon</td>\n",
       "      <td>1,100,000,000.00</td>\n",
       "      <td>36,666.67</td>\n",
       "    </tr>\n",
       "    <tr>\n",
       "      <th>2688</th>\n",
       "      <td>50</td>\n",
       "      <td>2</td>\n",
       "      <td>True</td>\n",
       "      <td>True</td>\n",
       "      <td>True</td>\n",
       "      <td>Persian Gulf Martyrs Lake</td>\n",
       "      <td>330,000,000.00</td>\n",
       "      <td>11,000.00</td>\n",
       "    </tr>\n",
       "    <tr>\n",
       "      <th>2780</th>\n",
       "      <td>50</td>\n",
       "      <td>2</td>\n",
       "      <td>False</td>\n",
       "      <td>True</td>\n",
       "      <td>False</td>\n",
       "      <td>Jeyhoon</td>\n",
       "      <td>730,000,000.00</td>\n",
       "      <td>24,333.33</td>\n",
       "    </tr>\n",
       "    <tr>\n",
       "      <th>2845</th>\n",
       "      <td>53</td>\n",
       "      <td>2</td>\n",
       "      <td>False</td>\n",
       "      <td>False</td>\n",
       "      <td>False</td>\n",
       "      <td>Tenant</td>\n",
       "      <td>1,100,000,000.00</td>\n",
       "      <td>36,666.67</td>\n",
       "    </tr>\n",
       "    <tr>\n",
       "      <th>3036</th>\n",
       "      <td>41</td>\n",
       "      <td>2</td>\n",
       "      <td>False</td>\n",
       "      <td>False</td>\n",
       "      <td>False</td>\n",
       "      <td>Salsabil</td>\n",
       "      <td>790,000,000.00</td>\n",
       "      <td>26,333.33</td>\n",
       "    </tr>\n",
       "    <tr>\n",
       "      <th>3105</th>\n",
       "      <td>50</td>\n",
       "      <td>2</td>\n",
       "      <td>False</td>\n",
       "      <td>True</td>\n",
       "      <td>False</td>\n",
       "      <td>Komeil</td>\n",
       "      <td>730,000,000.00</td>\n",
       "      <td>24,333.33</td>\n",
       "    </tr>\n",
       "    <tr>\n",
       "      <th>3228</th>\n",
       "      <td>40</td>\n",
       "      <td>2</td>\n",
       "      <td>False</td>\n",
       "      <td>False</td>\n",
       "      <td>False</td>\n",
       "      <td>Salsabil</td>\n",
       "      <td>830,000,000.00</td>\n",
       "      <td>27,666.67</td>\n",
       "    </tr>\n",
       "  </tbody>\n",
       "</table>\n",
       "</div>"
      ],
      "text/plain": [
       "      Area  Room  Parking  Warehouse  Elevator                    Address  \\\n",
       "8       54     2     True       True     False                   Andisheh   \n",
       "776     54     2     True       True     False                    Shahran   \n",
       "846     51     2    False       True      True                     Komeil   \n",
       "1929    50     2     True       True     False                    Shahran   \n",
       "2160    51     2     True       True     False                    Shahran   \n",
       "2341    53     2     True       True     False                    Jeyhoon   \n",
       "2688    50     2     True       True      True  Persian Gulf Martyrs Lake   \n",
       "2780    50     2    False       True     False                    Jeyhoon   \n",
       "2845    53     2    False      False     False                     Tenant   \n",
       "3036    41     2    False      False     False                   Salsabil   \n",
       "3105    50     2    False       True     False                     Komeil   \n",
       "3228    40     2    False      False     False                   Salsabil   \n",
       "\n",
       "                 Price  Price_USD  \n",
       "8       493,000,000.00  16,433.33  \n",
       "776   1,850,000,000.00  61,666.67  \n",
       "846   1,050,000,000.00  35,000.00  \n",
       "1929  1,820,000,000.00  60,666.67  \n",
       "2160  1,850,000,000.00  61,666.67  \n",
       "2341  1,100,000,000.00  36,666.67  \n",
       "2688    330,000,000.00  11,000.00  \n",
       "2780    730,000,000.00  24,333.33  \n",
       "2845  1,100,000,000.00  36,666.67  \n",
       "3036    790,000,000.00  26,333.33  \n",
       "3105    730,000,000.00  24,333.33  \n",
       "3228    830,000,000.00  27,666.67  "
      ]
     },
     "execution_count": 27,
     "metadata": {},
     "output_type": "execute_result"
    }
   ],
   "source": [
    "ou_data[(ou_data['Area'] < 55) & (ou_data['Room'] == 2)]\n"
   ]
  },
  {
   "cell_type": "markdown",
   "id": "87cb9a91",
   "metadata": {
    "papermill": {
     "duration": 0.015685,
     "end_time": "2025-03-25T19:49:55.079645",
     "exception": false,
     "start_time": "2025-03-25T19:49:55.063960",
     "status": "completed"
    },
    "tags": []
   },
   "source": [
    "**Removing Outliers**"
   ]
  },
  {
   "cell_type": "code",
   "execution_count": 28,
   "id": "82a144c9",
   "metadata": {
    "execution": {
     "iopub.execute_input": "2025-03-25T19:49:55.112874Z",
     "iopub.status.busy": "2025-03-25T19:49:55.112433Z",
     "iopub.status.idle": "2025-03-25T19:49:55.129250Z",
     "shell.execute_reply": "2025-03-25T19:49:55.128224Z"
    },
    "papermill": {
     "duration": 0.035123,
     "end_time": "2025-03-25T19:49:55.130737",
     "exception": false,
     "start_time": "2025-03-25T19:49:55.095614",
     "status": "completed"
    },
    "tags": []
   },
   "outputs": [
    {
     "data": {
      "text/plain": [
       "(3390, 8)"
      ]
     },
     "execution_count": 28,
     "metadata": {},
     "output_type": "execute_result"
    }
   ],
   "source": [
    "re_data=ou_data.copy()\n",
    "re_data = re_data.loc[~((re_data['Room'] == 0) & (re_data['Area'] > 60))]\n",
    "re_data = re_data.loc[~((re_data['Room'] == 1) & (re_data['Area'] > 105))]\n",
    "re_data = re_data.loc[~((re_data['Room'] == 2) & (re_data['Area'] > 171))]\n",
    "re_data = re_data.loc[~((re_data['Room'] == 2) & (re_data['Area'] < 55))]\n",
    "re_data = re_data.loc[~((re_data['Room'] == 3) & (re_data['Area'] > 331))]\n",
    "re_data = re_data.loc[~((re_data['Room'] == 4) & (re_data['Area'] < 140))]\n",
    "re_data = re_data.loc[~((re_data['Room'] == 5) & (re_data['Area'] < 200))]\n",
    "re_data.shape"
   ]
  },
  {
   "cell_type": "markdown",
   "id": "f51f8adc",
   "metadata": {
    "papermill": {
     "duration": 0.021916,
     "end_time": "2025-03-25T19:49:55.172028",
     "exception": false,
     "start_time": "2025-03-25T19:49:55.150112",
     "status": "completed"
    },
    "tags": []
   },
   "source": [
    "**Outlier Removal Using Standard Deviation and Mean**"
   ]
  },
  {
   "cell_type": "markdown",
   "id": "88dbfada",
   "metadata": {
    "papermill": {
     "duration": 0.016074,
     "end_time": "2025-03-25T19:49:55.216057",
     "exception": false,
     "start_time": "2025-03-25T19:49:55.199983",
     "status": "completed"
    },
    "tags": []
   },
   "source": [
    "Creating a new Columns of price per sqm"
   ]
  },
  {
   "cell_type": "code",
   "execution_count": 29,
   "id": "cef49e01",
   "metadata": {
    "execution": {
     "iopub.execute_input": "2025-03-25T19:49:55.249346Z",
     "iopub.status.busy": "2025-03-25T19:49:55.248956Z",
     "iopub.status.idle": "2025-03-25T19:49:55.278220Z",
     "shell.execute_reply": "2025-03-25T19:49:55.277164Z"
    },
    "papermill": {
     "duration": 0.047918,
     "end_time": "2025-03-25T19:49:55.279870",
     "exception": false,
     "start_time": "2025-03-25T19:49:55.231952",
     "status": "completed"
    },
    "tags": []
   },
   "outputs": [
    {
     "data": {
      "text/html": [
       "<div>\n",
       "<style scoped>\n",
       "    .dataframe tbody tr th:only-of-type {\n",
       "        vertical-align: middle;\n",
       "    }\n",
       "\n",
       "    .dataframe tbody tr th {\n",
       "        vertical-align: top;\n",
       "    }\n",
       "\n",
       "    .dataframe thead th {\n",
       "        text-align: right;\n",
       "    }\n",
       "</style>\n",
       "<table border=\"1\" class=\"dataframe\">\n",
       "  <thead>\n",
       "    <tr style=\"text-align: right;\">\n",
       "      <th></th>\n",
       "      <th>Area</th>\n",
       "      <th>Room</th>\n",
       "      <th>Parking</th>\n",
       "      <th>Warehouse</th>\n",
       "      <th>Elevator</th>\n",
       "      <th>Address</th>\n",
       "      <th>Price</th>\n",
       "      <th>Price_USD</th>\n",
       "      <th>Price_Per_sqm</th>\n",
       "    </tr>\n",
       "  </thead>\n",
       "  <tbody>\n",
       "    <tr>\n",
       "      <th>0</th>\n",
       "      <td>63</td>\n",
       "      <td>1</td>\n",
       "      <td>True</td>\n",
       "      <td>True</td>\n",
       "      <td>True</td>\n",
       "      <td>Shahran</td>\n",
       "      <td>1,850,000,000.00</td>\n",
       "      <td>61,666.67</td>\n",
       "      <td>29365079</td>\n",
       "    </tr>\n",
       "    <tr>\n",
       "      <th>1</th>\n",
       "      <td>60</td>\n",
       "      <td>1</td>\n",
       "      <td>True</td>\n",
       "      <td>True</td>\n",
       "      <td>True</td>\n",
       "      <td>Shahran</td>\n",
       "      <td>1,850,000,000.00</td>\n",
       "      <td>61,666.67</td>\n",
       "      <td>30833333</td>\n",
       "    </tr>\n",
       "    <tr>\n",
       "      <th>2</th>\n",
       "      <td>79</td>\n",
       "      <td>2</td>\n",
       "      <td>True</td>\n",
       "      <td>True</td>\n",
       "      <td>True</td>\n",
       "      <td>Pardis</td>\n",
       "      <td>550,000,000.00</td>\n",
       "      <td>18,333.33</td>\n",
       "      <td>6962025</td>\n",
       "    </tr>\n",
       "    <tr>\n",
       "      <th>3</th>\n",
       "      <td>95</td>\n",
       "      <td>2</td>\n",
       "      <td>True</td>\n",
       "      <td>True</td>\n",
       "      <td>True</td>\n",
       "      <td>Shahrake Qods</td>\n",
       "      <td>902,500,000.00</td>\n",
       "      <td>30,083.33</td>\n",
       "      <td>9500000</td>\n",
       "    </tr>\n",
       "    <tr>\n",
       "      <th>4</th>\n",
       "      <td>123</td>\n",
       "      <td>2</td>\n",
       "      <td>True</td>\n",
       "      <td>True</td>\n",
       "      <td>True</td>\n",
       "      <td>Shahrake Gharb</td>\n",
       "      <td>7,000,000,000.00</td>\n",
       "      <td>233,333.33</td>\n",
       "      <td>56910569</td>\n",
       "    </tr>\n",
       "    <tr>\n",
       "      <th>...</th>\n",
       "      <td>...</td>\n",
       "      <td>...</td>\n",
       "      <td>...</td>\n",
       "      <td>...</td>\n",
       "      <td>...</td>\n",
       "      <td>...</td>\n",
       "      <td>...</td>\n",
       "      <td>...</td>\n",
       "      <td>...</td>\n",
       "    </tr>\n",
       "    <tr>\n",
       "      <th>3474</th>\n",
       "      <td>86</td>\n",
       "      <td>2</td>\n",
       "      <td>True</td>\n",
       "      <td>True</td>\n",
       "      <td>True</td>\n",
       "      <td>Southern Janatabad</td>\n",
       "      <td>3,500,000,000.00</td>\n",
       "      <td>116,666.67</td>\n",
       "      <td>40697674</td>\n",
       "    </tr>\n",
       "    <tr>\n",
       "      <th>3475</th>\n",
       "      <td>83</td>\n",
       "      <td>2</td>\n",
       "      <td>True</td>\n",
       "      <td>True</td>\n",
       "      <td>True</td>\n",
       "      <td>Niavaran</td>\n",
       "      <td>6,800,000,000.00</td>\n",
       "      <td>226,666.67</td>\n",
       "      <td>81927711</td>\n",
       "    </tr>\n",
       "    <tr>\n",
       "      <th>3476</th>\n",
       "      <td>75</td>\n",
       "      <td>2</td>\n",
       "      <td>False</td>\n",
       "      <td>False</td>\n",
       "      <td>False</td>\n",
       "      <td>Parand</td>\n",
       "      <td>365,000,000.00</td>\n",
       "      <td>12,166.67</td>\n",
       "      <td>4866667</td>\n",
       "    </tr>\n",
       "    <tr>\n",
       "      <th>3477</th>\n",
       "      <td>105</td>\n",
       "      <td>2</td>\n",
       "      <td>True</td>\n",
       "      <td>True</td>\n",
       "      <td>True</td>\n",
       "      <td>Dorous</td>\n",
       "      <td>5,600,000,000.00</td>\n",
       "      <td>186,666.67</td>\n",
       "      <td>53333333</td>\n",
       "    </tr>\n",
       "    <tr>\n",
       "      <th>3478</th>\n",
       "      <td>82</td>\n",
       "      <td>2</td>\n",
       "      <td>False</td>\n",
       "      <td>True</td>\n",
       "      <td>True</td>\n",
       "      <td>Parand</td>\n",
       "      <td>360,000,000.00</td>\n",
       "      <td>12,000.00</td>\n",
       "      <td>4390244</td>\n",
       "    </tr>\n",
       "  </tbody>\n",
       "</table>\n",
       "<p>3390 rows × 9 columns</p>\n",
       "</div>"
      ],
      "text/plain": [
       "      Area  Room  Parking  Warehouse  Elevator             Address  \\\n",
       "0       63     1     True       True      True             Shahran   \n",
       "1       60     1     True       True      True             Shahran   \n",
       "2       79     2     True       True      True              Pardis   \n",
       "3       95     2     True       True      True       Shahrake Qods   \n",
       "4      123     2     True       True      True      Shahrake Gharb   \n",
       "...    ...   ...      ...        ...       ...                 ...   \n",
       "3474    86     2     True       True      True  Southern Janatabad   \n",
       "3475    83     2     True       True      True            Niavaran   \n",
       "3476    75     2    False      False     False              Parand   \n",
       "3477   105     2     True       True      True              Dorous   \n",
       "3478    82     2    False       True      True              Parand   \n",
       "\n",
       "                 Price   Price_USD  Price_Per_sqm  \n",
       "0     1,850,000,000.00   61,666.67       29365079  \n",
       "1     1,850,000,000.00   61,666.67       30833333  \n",
       "2       550,000,000.00   18,333.33        6962025  \n",
       "3       902,500,000.00   30,083.33        9500000  \n",
       "4     7,000,000,000.00  233,333.33       56910569  \n",
       "...                ...         ...            ...  \n",
       "3474  3,500,000,000.00  116,666.67       40697674  \n",
       "3475  6,800,000,000.00  226,666.67       81927711  \n",
       "3476    365,000,000.00   12,166.67        4866667  \n",
       "3477  5,600,000,000.00  186,666.67       53333333  \n",
       "3478    360,000,000.00   12,000.00        4390244  \n",
       "\n",
       "[3390 rows x 9 columns]"
      ]
     },
     "execution_count": 29,
     "metadata": {},
     "output_type": "execute_result"
    }
   ],
   "source": [
    "re_data['Price'] = re_data['Price'].astype(str).str.strip()  \n",
    "re_data['Price'] = re_data['Price'].str.replace(r'[^\\d.]', '', regex=True)  \n",
    "re_data['Price'] = pd.to_numeric(re_data['Price'], errors='coerce') \n",
    "re_data['Price_Per_sqm'] = re_data['Price'] / re_data['Area']\n",
    "re_data['Price'] = re_data['Price'].apply(lambda x: '{:,.2f}'.format(x))\n",
    "re_data"
   ]
  },
  {
   "cell_type": "code",
   "execution_count": 30,
   "id": "60637d76",
   "metadata": {
    "execution": {
     "iopub.execute_input": "2025-03-25T19:49:55.313634Z",
     "iopub.status.busy": "2025-03-25T19:49:55.313260Z",
     "iopub.status.idle": "2025-03-25T19:49:55.322822Z",
     "shell.execute_reply": "2025-03-25T19:49:55.321788Z"
    },
    "papermill": {
     "duration": 0.028231,
     "end_time": "2025-03-25T19:49:55.324446",
     "exception": false,
     "start_time": "2025-03-25T19:49:55.296215",
     "status": "completed"
    },
    "tags": []
   },
   "outputs": [],
   "source": [
    "re_data['Price'] = re_data['Price'].str.replace(',', '').astype(float)\n",
    "re_data['Price_USD'] = re_data['Price_USD'].str.replace(',', '').astype(float)\n"
   ]
  },
  {
   "cell_type": "code",
   "execution_count": 31,
   "id": "b47ad720",
   "metadata": {
    "execution": {
     "iopub.execute_input": "2025-03-25T19:49:55.358666Z",
     "iopub.status.busy": "2025-03-25T19:49:55.358276Z",
     "iopub.status.idle": "2025-03-25T19:49:55.363609Z",
     "shell.execute_reply": "2025-03-25T19:49:55.362646Z"
    },
    "papermill": {
     "duration": 0.024091,
     "end_time": "2025-03-25T19:49:55.365318",
     "exception": false,
     "start_time": "2025-03-25T19:49:55.341227",
     "status": "completed"
    },
    "tags": []
   },
   "outputs": [],
   "source": [
    "def remove_pps_outliers(df):\n",
    "    df_out = pd.DataFrame()  \n",
    "    for key, subdf in df.groupby('Address'):  \n",
    "        m = np.mean(subdf.Price_Per_sqm) \n",
    "        st = np.std(subdf.Price_Per_sqm) \n",
    "\n",
    "        reduced_df = subdf[(subdf.Price_Per_sqm > (m - st)) & (subdf.Price_Per_sqm <= (m + st))]\n",
    "\n",
    "        df_out = pd.concat([df_out, reduced_df], ignore_index=True)\n",
    "\n",
    "    return df_out\n"
   ]
  },
  {
   "cell_type": "code",
   "execution_count": 32,
   "id": "dd956793",
   "metadata": {
    "execution": {
     "iopub.execute_input": "2025-03-25T19:49:55.399328Z",
     "iopub.status.busy": "2025-03-25T19:49:55.398951Z",
     "iopub.status.idle": "2025-03-25T19:49:55.493365Z",
     "shell.execute_reply": "2025-03-25T19:49:55.492247Z"
    },
    "papermill": {
     "duration": 0.113731,
     "end_time": "2025-03-25T19:49:55.495683",
     "exception": false,
     "start_time": "2025-03-25T19:49:55.381952",
     "status": "completed"
    },
    "tags": []
   },
   "outputs": [
    {
     "data": {
      "text/plain": [
       "(2596, 9)"
      ]
     },
     "execution_count": 32,
     "metadata": {},
     "output_type": "execute_result"
    }
   ],
   "source": [
    "p_data=re_data.copy()\n",
    "p_data=remove_pps_outliers(re_data)\n",
    "p_data.shape"
   ]
  },
  {
   "cell_type": "code",
   "execution_count": 33,
   "id": "2ee549bc",
   "metadata": {
    "execution": {
     "iopub.execute_input": "2025-03-25T19:49:55.592873Z",
     "iopub.status.busy": "2025-03-25T19:49:55.592443Z",
     "iopub.status.idle": "2025-03-25T19:49:55.891577Z",
     "shell.execute_reply": "2025-03-25T19:49:55.890516Z"
    },
    "papermill": {
     "duration": 0.374109,
     "end_time": "2025-03-25T19:49:55.893746",
     "exception": false,
     "start_time": "2025-03-25T19:49:55.519637",
     "status": "completed"
    },
    "tags": []
   },
   "outputs": [
    {
     "data": {
      "image/png": "[encoded data removed]",
      "text/plain": [
       "<Figure size 2000x1000 with 1 Axes>"
      ]
     },
     "metadata": {},
     "output_type": "display_data"
    }
   ],
   "source": [
    "plt.scatter(p_data['Room'], p_data['Area'])\n",
    "plt.xlabel(\"Number of Rooms (Room)\")\n",
    "plt.ylabel(\"Total Area (sqm)\")\n",
    "plt.title(\"Room vs Area\")\n",
    "plt.show()\n"
   ]
  },
  {
   "cell_type": "markdown",
   "id": "d22ec324",
   "metadata": {
    "papermill": {
     "duration": 0.017173,
     "end_time": "2025-03-25T19:49:55.928896",
     "exception": false,
     "start_time": "2025-03-25T19:49:55.911723",
     "status": "completed"
    },
    "tags": []
   },
   "source": [
    "visualizing the relationship between property area and price for a specific address based on the number of rooms"
   ]
  },
  {
   "cell_type": "code",
   "execution_count": 34,
   "id": "5fe99932",
   "metadata": {
    "execution": {
     "iopub.execute_input": "2025-03-25T19:49:55.965357Z",
     "iopub.status.busy": "2025-03-25T19:49:55.965018Z",
     "iopub.status.idle": "2025-03-25T19:49:56.303786Z",
     "shell.execute_reply": "2025-03-25T19:49:56.302787Z"
    },
    "papermill": {
     "duration": 0.359157,
     "end_time": "2025-03-25T19:49:56.305461",
     "exception": false,
     "start_time": "2025-03-25T19:49:55.946304",
     "status": "completed"
    },
    "tags": []
   },
   "outputs": [
    {
     "data": {
      "image/png": "[encoded data removed]",
      "text/plain": [
       "<Figure size 1500x1000 with 1 Axes>"
      ]
     },
     "metadata": {},
     "output_type": "display_data"
    }
   ],
   "source": [
    "def plot_scatter_chart(df,Address):\n",
    "    room2 = df[(df.Address==Address) & (df.Room==2)]\n",
    "    room3 = df[(df.Address==Address) & (df.Room==3)]\n",
    "    matplotlib.rcParams['figure.figsize'] = (15,10)\n",
    "    plt.scatter(room2.Area,room2.Price,color='blue',label='2 rooms', s=50)\n",
    "    plt.scatter(room3.Area,room3.Price,marker='+', color='green',label='3 rooms', s=50)\n",
    "    plt.xlabel(\"Total Square Meter Area\")\n",
    "    plt.ylabel(\"Price (Lakh Indian Rupees)\")\n",
    "    plt.title(Address)\n",
    "    plt.legend()\n",
    "    \n",
    "plot_scatter_chart(p_data,\"Pardis\")"
   ]
  },
  {
   "cell_type": "markdown",
   "id": "a28ddf93",
   "metadata": {
    "papermill": {
     "duration": 0.018399,
     "end_time": "2025-03-25T19:49:56.342483",
     "exception": false,
     "start_time": "2025-03-25T19:49:56.324084",
     "status": "completed"
    },
    "tags": []
   },
   "source": [
    "**Fuature Engineering **"
   ]
  },
  {
   "cell_type": "markdown",
   "id": "0ca75117",
   "metadata": {
    "papermill": {
     "duration": 0.01847,
     "end_time": "2025-03-25T19:49:56.379566",
     "exception": false,
     "start_time": "2025-03-25T19:49:56.361096",
     "status": "completed"
    },
    "tags": []
   },
   "source": [
    "Use One Hot Encoding For Address , Elevator and Wearhouse"
   ]
  },
  {
   "cell_type": "code",
   "execution_count": 35,
   "id": "b5abaddc",
   "metadata": {
    "execution": {
     "iopub.execute_input": "2025-03-25T19:49:56.417468Z",
     "iopub.status.busy": "2025-03-25T19:49:56.417133Z",
     "iopub.status.idle": "2025-03-25T19:49:56.445715Z",
     "shell.execute_reply": "2025-03-25T19:49:56.444609Z"
    },
    "papermill": {
     "duration": 0.049641,
     "end_time": "2025-03-25T19:49:56.447554",
     "exception": false,
     "start_time": "2025-03-25T19:49:56.397913",
     "status": "completed"
    },
    "tags": []
   },
   "outputs": [
    {
     "data": {
      "text/html": [
       "<div>\n",
       "<style scoped>\n",
       "    .dataframe tbody tr th:only-of-type {\n",
       "        vertical-align: middle;\n",
       "    }\n",
       "\n",
       "    .dataframe tbody tr th {\n",
       "        vertical-align: top;\n",
       "    }\n",
       "\n",
       "    .dataframe thead th {\n",
       "        text-align: right;\n",
       "    }\n",
       "</style>\n",
       "<table border=\"1\" class=\"dataframe\">\n",
       "  <thead>\n",
       "    <tr style=\"text-align: right;\">\n",
       "      <th></th>\n",
       "      <th>Area</th>\n",
       "      <th>Room</th>\n",
       "      <th>Parking</th>\n",
       "      <th>Warehouse</th>\n",
       "      <th>Elevator</th>\n",
       "      <th>Price</th>\n",
       "      <th>Price_USD</th>\n",
       "      <th>Price_Per_sqm</th>\n",
       "      <th>Amirabad</th>\n",
       "      <th>Amirieh</th>\n",
       "      <th>...</th>\n",
       "      <th>Si Metri Ji</th>\n",
       "      <th>Southern Janatabad</th>\n",
       "      <th>Southern Program Organization</th>\n",
       "      <th>Tenant</th>\n",
       "      <th>Velenjak</th>\n",
       "      <th>West Ferdows Boulevard</th>\n",
       "      <th>West Pars</th>\n",
       "      <th>Yousef Abad</th>\n",
       "      <th>Zaferanieh</th>\n",
       "      <th>other</th>\n",
       "    </tr>\n",
       "  </thead>\n",
       "  <tbody>\n",
       "    <tr>\n",
       "      <th>0</th>\n",
       "      <td>79</td>\n",
       "      <td>2</td>\n",
       "      <td>True</td>\n",
       "      <td>True</td>\n",
       "      <td>True</td>\n",
       "      <td>3000000000</td>\n",
       "      <td>100000</td>\n",
       "      <td>37974684</td>\n",
       "      <td>False</td>\n",
       "      <td>False</td>\n",
       "      <td>...</td>\n",
       "      <td>False</td>\n",
       "      <td>False</td>\n",
       "      <td>False</td>\n",
       "      <td>False</td>\n",
       "      <td>False</td>\n",
       "      <td>False</td>\n",
       "      <td>False</td>\n",
       "      <td>False</td>\n",
       "      <td>False</td>\n",
       "      <td>False</td>\n",
       "    </tr>\n",
       "    <tr>\n",
       "      <th>1</th>\n",
       "      <td>135</td>\n",
       "      <td>3</td>\n",
       "      <td>True</td>\n",
       "      <td>True</td>\n",
       "      <td>True</td>\n",
       "      <td>6480000000</td>\n",
       "      <td>216000</td>\n",
       "      <td>48000000</td>\n",
       "      <td>False</td>\n",
       "      <td>False</td>\n",
       "      <td>...</td>\n",
       "      <td>False</td>\n",
       "      <td>False</td>\n",
       "      <td>False</td>\n",
       "      <td>False</td>\n",
       "      <td>False</td>\n",
       "      <td>False</td>\n",
       "      <td>False</td>\n",
       "      <td>False</td>\n",
       "      <td>False</td>\n",
       "      <td>False</td>\n",
       "    </tr>\n",
       "    <tr>\n",
       "      <th>2</th>\n",
       "      <td>95</td>\n",
       "      <td>2</td>\n",
       "      <td>True</td>\n",
       "      <td>True</td>\n",
       "      <td>True</td>\n",
       "      <td>5600000000</td>\n",
       "      <td>186667</td>\n",
       "      <td>58947368</td>\n",
       "      <td>False</td>\n",
       "      <td>False</td>\n",
       "      <td>...</td>\n",
       "      <td>False</td>\n",
       "      <td>False</td>\n",
       "      <td>False</td>\n",
       "      <td>False</td>\n",
       "      <td>False</td>\n",
       "      <td>False</td>\n",
       "      <td>False</td>\n",
       "      <td>False</td>\n",
       "      <td>False</td>\n",
       "      <td>False</td>\n",
       "    </tr>\n",
       "    <tr>\n",
       "      <th>3</th>\n",
       "      <td>95</td>\n",
       "      <td>2</td>\n",
       "      <td>True</td>\n",
       "      <td>True</td>\n",
       "      <td>True</td>\n",
       "      <td>4500000000</td>\n",
       "      <td>150000</td>\n",
       "      <td>47368421</td>\n",
       "      <td>False</td>\n",
       "      <td>False</td>\n",
       "      <td>...</td>\n",
       "      <td>False</td>\n",
       "      <td>False</td>\n",
       "      <td>False</td>\n",
       "      <td>False</td>\n",
       "      <td>False</td>\n",
       "      <td>False</td>\n",
       "      <td>False</td>\n",
       "      <td>False</td>\n",
       "      <td>False</td>\n",
       "      <td>False</td>\n",
       "    </tr>\n",
       "    <tr>\n",
       "      <th>4</th>\n",
       "      <td>102</td>\n",
       "      <td>2</td>\n",
       "      <td>True</td>\n",
       "      <td>True</td>\n",
       "      <td>True</td>\n",
       "      <td>5200000000</td>\n",
       "      <td>173333</td>\n",
       "      <td>50980392</td>\n",
       "      <td>False</td>\n",
       "      <td>False</td>\n",
       "      <td>...</td>\n",
       "      <td>False</td>\n",
       "      <td>False</td>\n",
       "      <td>False</td>\n",
       "      <td>False</td>\n",
       "      <td>False</td>\n",
       "      <td>False</td>\n",
       "      <td>False</td>\n",
       "      <td>False</td>\n",
       "      <td>False</td>\n",
       "      <td>False</td>\n",
       "    </tr>\n",
       "    <tr>\n",
       "      <th>...</th>\n",
       "      <td>...</td>\n",
       "      <td>...</td>\n",
       "      <td>...</td>\n",
       "      <td>...</td>\n",
       "      <td>...</td>\n",
       "      <td>...</td>\n",
       "      <td>...</td>\n",
       "      <td>...</td>\n",
       "      <td>...</td>\n",
       "      <td>...</td>\n",
       "      <td>...</td>\n",
       "      <td>...</td>\n",
       "      <td>...</td>\n",
       "      <td>...</td>\n",
       "      <td>...</td>\n",
       "      <td>...</td>\n",
       "      <td>...</td>\n",
       "      <td>...</td>\n",
       "      <td>...</td>\n",
       "      <td>...</td>\n",
       "      <td>...</td>\n",
       "    </tr>\n",
       "    <tr>\n",
       "      <th>2591</th>\n",
       "      <td>140</td>\n",
       "      <td>3</td>\n",
       "      <td>True</td>\n",
       "      <td>True</td>\n",
       "      <td>True</td>\n",
       "      <td>8400000000</td>\n",
       "      <td>280000</td>\n",
       "      <td>60000000</td>\n",
       "      <td>False</td>\n",
       "      <td>False</td>\n",
       "      <td>...</td>\n",
       "      <td>False</td>\n",
       "      <td>False</td>\n",
       "      <td>False</td>\n",
       "      <td>False</td>\n",
       "      <td>False</td>\n",
       "      <td>False</td>\n",
       "      <td>False</td>\n",
       "      <td>False</td>\n",
       "      <td>False</td>\n",
       "      <td>True</td>\n",
       "    </tr>\n",
       "    <tr>\n",
       "      <th>2592</th>\n",
       "      <td>68</td>\n",
       "      <td>2</td>\n",
       "      <td>False</td>\n",
       "      <td>True</td>\n",
       "      <td>True</td>\n",
       "      <td>1000000000</td>\n",
       "      <td>33333</td>\n",
       "      <td>14705882</td>\n",
       "      <td>False</td>\n",
       "      <td>False</td>\n",
       "      <td>...</td>\n",
       "      <td>False</td>\n",
       "      <td>False</td>\n",
       "      <td>False</td>\n",
       "      <td>False</td>\n",
       "      <td>False</td>\n",
       "      <td>False</td>\n",
       "      <td>False</td>\n",
       "      <td>False</td>\n",
       "      <td>False</td>\n",
       "      <td>True</td>\n",
       "    </tr>\n",
       "    <tr>\n",
       "      <th>2593</th>\n",
       "      <td>118</td>\n",
       "      <td>2</td>\n",
       "      <td>True</td>\n",
       "      <td>True</td>\n",
       "      <td>True</td>\n",
       "      <td>7080000000</td>\n",
       "      <td>236000</td>\n",
       "      <td>60000000</td>\n",
       "      <td>False</td>\n",
       "      <td>False</td>\n",
       "      <td>...</td>\n",
       "      <td>False</td>\n",
       "      <td>False</td>\n",
       "      <td>False</td>\n",
       "      <td>False</td>\n",
       "      <td>False</td>\n",
       "      <td>False</td>\n",
       "      <td>False</td>\n",
       "      <td>False</td>\n",
       "      <td>False</td>\n",
       "      <td>True</td>\n",
       "    </tr>\n",
       "    <tr>\n",
       "      <th>2594</th>\n",
       "      <td>148</td>\n",
       "      <td>3</td>\n",
       "      <td>True</td>\n",
       "      <td>True</td>\n",
       "      <td>True</td>\n",
       "      <td>6000000000</td>\n",
       "      <td>200000</td>\n",
       "      <td>40540541</td>\n",
       "      <td>False</td>\n",
       "      <td>False</td>\n",
       "      <td>...</td>\n",
       "      <td>False</td>\n",
       "      <td>False</td>\n",
       "      <td>False</td>\n",
       "      <td>False</td>\n",
       "      <td>False</td>\n",
       "      <td>False</td>\n",
       "      <td>False</td>\n",
       "      <td>False</td>\n",
       "      <td>False</td>\n",
       "      <td>True</td>\n",
       "    </tr>\n",
       "    <tr>\n",
       "      <th>2595</th>\n",
       "      <td>74</td>\n",
       "      <td>2</td>\n",
       "      <td>True</td>\n",
       "      <td>True</td>\n",
       "      <td>True</td>\n",
       "      <td>4070000000</td>\n",
       "      <td>135667</td>\n",
       "      <td>55000000</td>\n",
       "      <td>False</td>\n",
       "      <td>False</td>\n",
       "      <td>...</td>\n",
       "      <td>False</td>\n",
       "      <td>False</td>\n",
       "      <td>False</td>\n",
       "      <td>False</td>\n",
       "      <td>False</td>\n",
       "      <td>False</td>\n",
       "      <td>False</td>\n",
       "      <td>False</td>\n",
       "      <td>False</td>\n",
       "      <td>True</td>\n",
       "    </tr>\n",
       "  </tbody>\n",
       "</table>\n",
       "<p>2596 rows × 72 columns</p>\n",
       "</div>"
      ],
      "text/plain": [
       "      Area  Room  Parking  Warehouse  Elevator      Price  Price_USD  \\\n",
       "0       79     2     True       True      True 3000000000     100000   \n",
       "1      135     3     True       True      True 6480000000     216000   \n",
       "2       95     2     True       True      True 5600000000     186667   \n",
       "3       95     2     True       True      True 4500000000     150000   \n",
       "4      102     2     True       True      True 5200000000     173333   \n",
       "...    ...   ...      ...        ...       ...        ...        ...   \n",
       "2591   140     3     True       True      True 8400000000     280000   \n",
       "2592    68     2    False       True      True 1000000000      33333   \n",
       "2593   118     2     True       True      True 7080000000     236000   \n",
       "2594   148     3     True       True      True 6000000000     200000   \n",
       "2595    74     2     True       True      True 4070000000     135667   \n",
       "\n",
       "      Price_Per_sqm  Amirabad  Amirieh  ...  Si Metri Ji  Southern Janatabad  \\\n",
       "0          37974684     False    False  ...        False               False   \n",
       "1          48000000     False    False  ...        False               False   \n",
       "2          58947368     False    False  ...        False               False   \n",
       "3          47368421     False    False  ...        False               False   \n",
       "4          50980392     False    False  ...        False               False   \n",
       "...             ...       ...      ...  ...          ...                 ...   \n",
       "2591       60000000     False    False  ...        False               False   \n",
       "2592       14705882     False    False  ...        False               False   \n",
       "2593       60000000     False    False  ...        False               False   \n",
       "2594       40540541     False    False  ...        False               False   \n",
       "2595       55000000     False    False  ...        False               False   \n",
       "\n",
       "      Southern Program Organization  Tenant  Velenjak  West Ferdows Boulevard  \\\n",
       "0                             False   False     False                   False   \n",
       "1                             False   False     False                   False   \n",
       "2                             False   False     False                   False   \n",
       "3                             False   False     False                   False   \n",
       "4                             False   False     False                   False   \n",
       "...                             ...     ...       ...                     ...   \n",
       "2591                          False   False     False                   False   \n",
       "2592                          False   False     False                   False   \n",
       "2593                          False   False     False                   False   \n",
       "2594                          False   False     False                   False   \n",
       "2595                          False   False     False                   False   \n",
       "\n",
       "      West Pars  Yousef Abad  Zaferanieh  other  \n",
       "0         False        False       False  False  \n",
       "1         False        False       False  False  \n",
       "2         False        False       False  False  \n",
       "3         False        False       False  False  \n",
       "4         False        False       False  False  \n",
       "...         ...          ...         ...    ...  \n",
       "2591      False        False       False   True  \n",
       "2592      False        False       False   True  \n",
       "2593      False        False       False   True  \n",
       "2594      False        False       False   True  \n",
       "2595      False        False       False   True  \n",
       "\n",
       "[2596 rows x 72 columns]"
      ]
     },
     "execution_count": 35,
     "metadata": {},
     "output_type": "execute_result"
    }
   ],
   "source": [
    "enc_data = p_data.copy()\n",
    "enc_data = pd.concat([enc_data, pd.get_dummies(enc_data['Address'], prefix='Address', drop_first=True)], axis=1)\n",
    "enc_data.drop('Address', axis=1, inplace=True)  \n",
    "\n",
    "# Removeing \"Address_\" from column names\n",
    "enc_data.columns = enc_data.columns.str.replace(r'^Address_', '', regex=True)\n",
    "\n",
    "enc_data\n"
   ]
  },
  {
   "cell_type": "markdown",
   "id": "85dc20bf",
   "metadata": {
    "papermill": {
     "duration": 0.01864,
     "end_time": "2025-03-25T19:49:56.485368",
     "exception": false,
     "start_time": "2025-03-25T19:49:56.466728",
     "status": "completed"
    },
    "tags": []
   },
   "source": [
    "Converting str to bin"
   ]
  },
  {
   "cell_type": "code",
   "execution_count": 36,
   "id": "cbaafb02",
   "metadata": {
    "execution": {
     "iopub.execute_input": "2025-03-25T19:49:56.524347Z",
     "iopub.status.busy": "2025-03-25T19:49:56.523975Z",
     "iopub.status.idle": "2025-03-25T19:49:56.547496Z",
     "shell.execute_reply": "2025-03-25T19:49:56.546419Z"
    },
    "papermill": {
     "duration": 0.045207,
     "end_time": "2025-03-25T19:49:56.549346",
     "exception": false,
     "start_time": "2025-03-25T19:49:56.504139",
     "status": "completed"
    },
    "tags": []
   },
   "outputs": [
    {
     "data": {
      "text/html": [
       "<div>\n",
       "<style scoped>\n",
       "    .dataframe tbody tr th:only-of-type {\n",
       "        vertical-align: middle;\n",
       "    }\n",
       "\n",
       "    .dataframe tbody tr th {\n",
       "        vertical-align: top;\n",
       "    }\n",
       "\n",
       "    .dataframe thead th {\n",
       "        text-align: right;\n",
       "    }\n",
       "</style>\n",
       "<table border=\"1\" class=\"dataframe\">\n",
       "  <thead>\n",
       "    <tr style=\"text-align: right;\">\n",
       "      <th></th>\n",
       "      <th>Area</th>\n",
       "      <th>Room</th>\n",
       "      <th>Parking</th>\n",
       "      <th>Warehouse</th>\n",
       "      <th>Elevator</th>\n",
       "      <th>Price</th>\n",
       "      <th>Price_USD</th>\n",
       "      <th>Price_Per_sqm</th>\n",
       "      <th>Amirabad</th>\n",
       "      <th>Amirieh</th>\n",
       "      <th>...</th>\n",
       "      <th>Si Metri Ji</th>\n",
       "      <th>Southern Janatabad</th>\n",
       "      <th>Southern Program Organization</th>\n",
       "      <th>Tenant</th>\n",
       "      <th>Velenjak</th>\n",
       "      <th>West Ferdows Boulevard</th>\n",
       "      <th>West Pars</th>\n",
       "      <th>Yousef Abad</th>\n",
       "      <th>Zaferanieh</th>\n",
       "      <th>other</th>\n",
       "    </tr>\n",
       "  </thead>\n",
       "  <tbody>\n",
       "    <tr>\n",
       "      <th>0</th>\n",
       "      <td>79</td>\n",
       "      <td>2</td>\n",
       "      <td>1</td>\n",
       "      <td>1</td>\n",
       "      <td>1</td>\n",
       "      <td>3000000000</td>\n",
       "      <td>100000</td>\n",
       "      <td>37974684</td>\n",
       "      <td>False</td>\n",
       "      <td>False</td>\n",
       "      <td>...</td>\n",
       "      <td>False</td>\n",
       "      <td>False</td>\n",
       "      <td>False</td>\n",
       "      <td>False</td>\n",
       "      <td>False</td>\n",
       "      <td>False</td>\n",
       "      <td>False</td>\n",
       "      <td>False</td>\n",
       "      <td>False</td>\n",
       "      <td>False</td>\n",
       "    </tr>\n",
       "    <tr>\n",
       "      <th>1</th>\n",
       "      <td>135</td>\n",
       "      <td>3</td>\n",
       "      <td>1</td>\n",
       "      <td>1</td>\n",
       "      <td>1</td>\n",
       "      <td>6480000000</td>\n",
       "      <td>216000</td>\n",
       "      <td>48000000</td>\n",
       "      <td>False</td>\n",
       "      <td>False</td>\n",
       "      <td>...</td>\n",
       "      <td>False</td>\n",
       "      <td>False</td>\n",
       "      <td>False</td>\n",
       "      <td>False</td>\n",
       "      <td>False</td>\n",
       "      <td>False</td>\n",
       "      <td>False</td>\n",
       "      <td>False</td>\n",
       "      <td>False</td>\n",
       "      <td>False</td>\n",
       "    </tr>\n",
       "    <tr>\n",
       "      <th>2</th>\n",
       "      <td>95</td>\n",
       "      <td>2</td>\n",
       "      <td>1</td>\n",
       "      <td>1</td>\n",
       "      <td>1</td>\n",
       "      <td>5600000000</td>\n",
       "      <td>186667</td>\n",
       "      <td>58947368</td>\n",
       "      <td>False</td>\n",
       "      <td>False</td>\n",
       "      <td>...</td>\n",
       "      <td>False</td>\n",
       "      <td>False</td>\n",
       "      <td>False</td>\n",
       "      <td>False</td>\n",
       "      <td>False</td>\n",
       "      <td>False</td>\n",
       "      <td>False</td>\n",
       "      <td>False</td>\n",
       "      <td>False</td>\n",
       "      <td>False</td>\n",
       "    </tr>\n",
       "    <tr>\n",
       "      <th>3</th>\n",
       "      <td>95</td>\n",
       "      <td>2</td>\n",
       "      <td>1</td>\n",
       "      <td>1</td>\n",
       "      <td>1</td>\n",
       "      <td>4500000000</td>\n",
       "      <td>150000</td>\n",
       "      <td>47368421</td>\n",
       "      <td>False</td>\n",
       "      <td>False</td>\n",
       "      <td>...</td>\n",
       "      <td>False</td>\n",
       "      <td>False</td>\n",
       "      <td>False</td>\n",
       "      <td>False</td>\n",
       "      <td>False</td>\n",
       "      <td>False</td>\n",
       "      <td>False</td>\n",
       "      <td>False</td>\n",
       "      <td>False</td>\n",
       "      <td>False</td>\n",
       "    </tr>\n",
       "    <tr>\n",
       "      <th>4</th>\n",
       "      <td>102</td>\n",
       "      <td>2</td>\n",
       "      <td>1</td>\n",
       "      <td>1</td>\n",
       "      <td>1</td>\n",
       "      <td>5200000000</td>\n",
       "      <td>173333</td>\n",
       "      <td>50980392</td>\n",
       "      <td>False</td>\n",
       "      <td>False</td>\n",
       "      <td>...</td>\n",
       "      <td>False</td>\n",
       "      <td>False</td>\n",
       "      <td>False</td>\n",
       "      <td>False</td>\n",
       "      <td>False</td>\n",
       "      <td>False</td>\n",
       "      <td>False</td>\n",
       "      <td>False</td>\n",
       "      <td>False</td>\n",
       "      <td>False</td>\n",
       "    </tr>\n",
       "    <tr>\n",
       "      <th>...</th>\n",
       "      <td>...</td>\n",
       "      <td>...</td>\n",
       "      <td>...</td>\n",
       "      <td>...</td>\n",
       "      <td>...</td>\n",
       "      <td>...</td>\n",
       "      <td>...</td>\n",
       "      <td>...</td>\n",
       "      <td>...</td>\n",
       "      <td>...</td>\n",
       "      <td>...</td>\n",
       "      <td>...</td>\n",
       "      <td>...</td>\n",
       "      <td>...</td>\n",
       "      <td>...</td>\n",
       "      <td>...</td>\n",
       "      <td>...</td>\n",
       "      <td>...</td>\n",
       "      <td>...</td>\n",
       "      <td>...</td>\n",
       "      <td>...</td>\n",
       "    </tr>\n",
       "    <tr>\n",
       "      <th>2591</th>\n",
       "      <td>140</td>\n",
       "      <td>3</td>\n",
       "      <td>1</td>\n",
       "      <td>1</td>\n",
       "      <td>1</td>\n",
       "      <td>8400000000</td>\n",
       "      <td>280000</td>\n",
       "      <td>60000000</td>\n",
       "      <td>False</td>\n",
       "      <td>False</td>\n",
       "      <td>...</td>\n",
       "      <td>False</td>\n",
       "      <td>False</td>\n",
       "      <td>False</td>\n",
       "      <td>False</td>\n",
       "      <td>False</td>\n",
       "      <td>False</td>\n",
       "      <td>False</td>\n",
       "      <td>False</td>\n",
       "      <td>False</td>\n",
       "      <td>True</td>\n",
       "    </tr>\n",
       "    <tr>\n",
       "      <th>2592</th>\n",
       "      <td>68</td>\n",
       "      <td>2</td>\n",
       "      <td>0</td>\n",
       "      <td>1</td>\n",
       "      <td>1</td>\n",
       "      <td>1000000000</td>\n",
       "      <td>33333</td>\n",
       "      <td>14705882</td>\n",
       "      <td>False</td>\n",
       "      <td>False</td>\n",
       "      <td>...</td>\n",
       "      <td>False</td>\n",
       "      <td>False</td>\n",
       "      <td>False</td>\n",
       "      <td>False</td>\n",
       "      <td>False</td>\n",
       "      <td>False</td>\n",
       "      <td>False</td>\n",
       "      <td>False</td>\n",
       "      <td>False</td>\n",
       "      <td>True</td>\n",
       "    </tr>\n",
       "    <tr>\n",
       "      <th>2593</th>\n",
       "      <td>118</td>\n",
       "      <td>2</td>\n",
       "      <td>1</td>\n",
       "      <td>1</td>\n",
       "      <td>1</td>\n",
       "      <td>7080000000</td>\n",
       "      <td>236000</td>\n",
       "      <td>60000000</td>\n",
       "      <td>False</td>\n",
       "      <td>False</td>\n",
       "      <td>...</td>\n",
       "      <td>False</td>\n",
       "      <td>False</td>\n",
       "      <td>False</td>\n",
       "      <td>False</td>\n",
       "      <td>False</td>\n",
       "      <td>False</td>\n",
       "      <td>False</td>\n",
       "      <td>False</td>\n",
       "      <td>False</td>\n",
       "      <td>True</td>\n",
       "    </tr>\n",
       "    <tr>\n",
       "      <th>2594</th>\n",
       "      <td>148</td>\n",
       "      <td>3</td>\n",
       "      <td>1</td>\n",
       "      <td>1</td>\n",
       "      <td>1</td>\n",
       "      <td>6000000000</td>\n",
       "      <td>200000</td>\n",
       "      <td>40540541</td>\n",
       "      <td>False</td>\n",
       "      <td>False</td>\n",
       "      <td>...</td>\n",
       "      <td>False</td>\n",
       "      <td>False</td>\n",
       "      <td>False</td>\n",
       "      <td>False</td>\n",
       "      <td>False</td>\n",
       "      <td>False</td>\n",
       "      <td>False</td>\n",
       "      <td>False</td>\n",
       "      <td>False</td>\n",
       "      <td>True</td>\n",
       "    </tr>\n",
       "    <tr>\n",
       "      <th>2595</th>\n",
       "      <td>74</td>\n",
       "      <td>2</td>\n",
       "      <td>1</td>\n",
       "      <td>1</td>\n",
       "      <td>1</td>\n",
       "      <td>4070000000</td>\n",
       "      <td>135667</td>\n",
       "      <td>55000000</td>\n",
       "      <td>False</td>\n",
       "      <td>False</td>\n",
       "      <td>...</td>\n",
       "      <td>False</td>\n",
       "      <td>False</td>\n",
       "      <td>False</td>\n",
       "      <td>False</td>\n",
       "      <td>False</td>\n",
       "      <td>False</td>\n",
       "      <td>False</td>\n",
       "      <td>False</td>\n",
       "      <td>False</td>\n",
       "      <td>True</td>\n",
       "    </tr>\n",
       "  </tbody>\n",
       "</table>\n",
       "<p>2596 rows × 72 columns</p>\n",
       "</div>"
      ],
      "text/plain": [
       "      Area  Room  Parking  Warehouse  Elevator      Price  Price_USD  \\\n",
       "0       79     2        1          1         1 3000000000     100000   \n",
       "1      135     3        1          1         1 6480000000     216000   \n",
       "2       95     2        1          1         1 5600000000     186667   \n",
       "3       95     2        1          1         1 4500000000     150000   \n",
       "4      102     2        1          1         1 5200000000     173333   \n",
       "...    ...   ...      ...        ...       ...        ...        ...   \n",
       "2591   140     3        1          1         1 8400000000     280000   \n",
       "2592    68     2        0          1         1 1000000000      33333   \n",
       "2593   118     2        1          1         1 7080000000     236000   \n",
       "2594   148     3        1          1         1 6000000000     200000   \n",
       "2595    74     2        1          1         1 4070000000     135667   \n",
       "\n",
       "      Price_Per_sqm  Amirabad  Amirieh  ...  Si Metri Ji  Southern Janatabad  \\\n",
       "0          37974684     False    False  ...        False               False   \n",
       "1          48000000     False    False  ...        False               False   \n",
       "2          58947368     False    False  ...        False               False   \n",
       "3          47368421     False    False  ...        False               False   \n",
       "4          50980392     False    False  ...        False               False   \n",
       "...             ...       ...      ...  ...          ...                 ...   \n",
       "2591       60000000     False    False  ...        False               False   \n",
       "2592       14705882     False    False  ...        False               False   \n",
       "2593       60000000     False    False  ...        False               False   \n",
       "2594       40540541     False    False  ...        False               False   \n",
       "2595       55000000     False    False  ...        False               False   \n",
       "\n",
       "      Southern Program Organization  Tenant  Velenjak  West Ferdows Boulevard  \\\n",
       "0                             False   False     False                   False   \n",
       "1                             False   False     False                   False   \n",
       "2                             False   False     False                   False   \n",
       "3                             False   False     False                   False   \n",
       "4                             False   False     False                   False   \n",
       "...                             ...     ...       ...                     ...   \n",
       "2591                          False   False     False                   False   \n",
       "2592                          False   False     False                   False   \n",
       "2593                          False   False     False                   False   \n",
       "2594                          False   False     False                   False   \n",
       "2595                          False   False     False                   False   \n",
       "\n",
       "      West Pars  Yousef Abad  Zaferanieh  other  \n",
       "0         False        False       False  False  \n",
       "1         False        False       False  False  \n",
       "2         False        False       False  False  \n",
       "3         False        False       False  False  \n",
       "4         False        False       False  False  \n",
       "...         ...          ...         ...    ...  \n",
       "2591      False        False       False   True  \n",
       "2592      False        False       False   True  \n",
       "2593      False        False       False   True  \n",
       "2594      False        False       False   True  \n",
       "2595      False        False       False   True  \n",
       "\n",
       "[2596 rows x 72 columns]"
      ]
     },
     "execution_count": 36,
     "metadata": {},
     "output_type": "execute_result"
    }
   ],
   "source": [
    "enc_data['Parking'] = enc_data['Parking'].astype(int)\n",
    "enc_data['Warehouse'] = enc_data['Warehouse'].astype(int)\n",
    "enc_data['Elevator'] = enc_data['Elevator'].astype(int)\n",
    "enc_data"
   ]
  },
  {
   "cell_type": "code",
   "execution_count": 37,
   "id": "5923cadd",
   "metadata": {
    "execution": {
     "iopub.execute_input": "2025-03-25T19:49:56.589954Z",
     "iopub.status.busy": "2025-03-25T19:49:56.589621Z",
     "iopub.status.idle": "2025-03-25T19:49:56.598694Z",
     "shell.execute_reply": "2025-03-25T19:49:56.597671Z"
    },
    "papermill": {
     "duration": 0.031082,
     "end_time": "2025-03-25T19:49:56.600358",
     "exception": false,
     "start_time": "2025-03-25T19:49:56.569276",
     "status": "completed"
    },
    "tags": []
   },
   "outputs": [
    {
     "data": {
      "text/plain": [
       "count      2596\n",
       "mean     146958\n",
       "std      171153\n",
       "min        7833\n",
       "25%       48050\n",
       "50%       93333\n",
       "75%      176667\n",
       "max     1798333\n",
       "Name: Price_USD, dtype: float64"
      ]
     },
     "execution_count": 37,
     "metadata": {},
     "output_type": "execute_result"
    }
   ],
   "source": [
    "enc_data.Price_USD.describe()"
   ]
  },
  {
   "cell_type": "markdown",
   "id": "1ab3887b",
   "metadata": {
    "papermill": {
     "duration": 0.019245,
     "end_time": "2025-03-25T19:49:56.639244",
     "exception": false,
     "start_time": "2025-03-25T19:49:56.619999",
     "status": "completed"
    },
    "tags": []
   },
   "source": [
    "Preparing Data for Training "
   ]
  },
  {
   "cell_type": "code",
   "execution_count": 38,
   "id": "f8c0125b",
   "metadata": {
    "execution": {
     "iopub.execute_input": "2025-03-25T19:49:56.679711Z",
     "iopub.status.busy": "2025-03-25T19:49:56.679305Z",
     "iopub.status.idle": "2025-03-25T19:49:56.701674Z",
     "shell.execute_reply": "2025-03-25T19:49:56.700616Z"
    },
    "papermill": {
     "duration": 0.044651,
     "end_time": "2025-03-25T19:49:56.703322",
     "exception": false,
     "start_time": "2025-03-25T19:49:56.658671",
     "status": "completed"
    },
    "tags": []
   },
   "outputs": [
    {
     "data": {
      "text/html": [
       "<div>\n",
       "<style scoped>\n",
       "    .dataframe tbody tr th:only-of-type {\n",
       "        vertical-align: middle;\n",
       "    }\n",
       "\n",
       "    .dataframe tbody tr th {\n",
       "        vertical-align: top;\n",
       "    }\n",
       "\n",
       "    .dataframe thead th {\n",
       "        text-align: right;\n",
       "    }\n",
       "</style>\n",
       "<table border=\"1\" class=\"dataframe\">\n",
       "  <thead>\n",
       "    <tr style=\"text-align: right;\">\n",
       "      <th></th>\n",
       "      <th>Area</th>\n",
       "      <th>Room</th>\n",
       "      <th>Parking</th>\n",
       "      <th>Warehouse</th>\n",
       "      <th>Elevator</th>\n",
       "      <th>Amirabad</th>\n",
       "      <th>Amirieh</th>\n",
       "      <th>Andisheh</th>\n",
       "      <th>Aqdasieh</th>\n",
       "      <th>Azarbaijan</th>\n",
       "      <th>...</th>\n",
       "      <th>Si Metri Ji</th>\n",
       "      <th>Southern Janatabad</th>\n",
       "      <th>Southern Program Organization</th>\n",
       "      <th>Tenant</th>\n",
       "      <th>Velenjak</th>\n",
       "      <th>West Ferdows Boulevard</th>\n",
       "      <th>West Pars</th>\n",
       "      <th>Yousef Abad</th>\n",
       "      <th>Zaferanieh</th>\n",
       "      <th>other</th>\n",
       "    </tr>\n",
       "  </thead>\n",
       "  <tbody>\n",
       "    <tr>\n",
       "      <th>0</th>\n",
       "      <td>79</td>\n",
       "      <td>2</td>\n",
       "      <td>1</td>\n",
       "      <td>1</td>\n",
       "      <td>1</td>\n",
       "      <td>False</td>\n",
       "      <td>False</td>\n",
       "      <td>False</td>\n",
       "      <td>False</td>\n",
       "      <td>False</td>\n",
       "      <td>...</td>\n",
       "      <td>False</td>\n",
       "      <td>False</td>\n",
       "      <td>False</td>\n",
       "      <td>False</td>\n",
       "      <td>False</td>\n",
       "      <td>False</td>\n",
       "      <td>False</td>\n",
       "      <td>False</td>\n",
       "      <td>False</td>\n",
       "      <td>False</td>\n",
       "    </tr>\n",
       "    <tr>\n",
       "      <th>1</th>\n",
       "      <td>135</td>\n",
       "      <td>3</td>\n",
       "      <td>1</td>\n",
       "      <td>1</td>\n",
       "      <td>1</td>\n",
       "      <td>False</td>\n",
       "      <td>False</td>\n",
       "      <td>False</td>\n",
       "      <td>False</td>\n",
       "      <td>False</td>\n",
       "      <td>...</td>\n",
       "      <td>False</td>\n",
       "      <td>False</td>\n",
       "      <td>False</td>\n",
       "      <td>False</td>\n",
       "      <td>False</td>\n",
       "      <td>False</td>\n",
       "      <td>False</td>\n",
       "      <td>False</td>\n",
       "      <td>False</td>\n",
       "      <td>False</td>\n",
       "    </tr>\n",
       "    <tr>\n",
       "      <th>2</th>\n",
       "      <td>95</td>\n",
       "      <td>2</td>\n",
       "      <td>1</td>\n",
       "      <td>1</td>\n",
       "      <td>1</td>\n",
       "      <td>False</td>\n",
       "      <td>False</td>\n",
       "      <td>False</td>\n",
       "      <td>False</td>\n",
       "      <td>False</td>\n",
       "      <td>...</td>\n",
       "      <td>False</td>\n",
       "      <td>False</td>\n",
       "      <td>False</td>\n",
       "      <td>False</td>\n",
       "      <td>False</td>\n",
       "      <td>False</td>\n",
       "      <td>False</td>\n",
       "      <td>False</td>\n",
       "      <td>False</td>\n",
       "      <td>False</td>\n",
       "    </tr>\n",
       "    <tr>\n",
       "      <th>3</th>\n",
       "      <td>95</td>\n",
       "      <td>2</td>\n",
       "      <td>1</td>\n",
       "      <td>1</td>\n",
       "      <td>1</td>\n",
       "      <td>False</td>\n",
       "      <td>False</td>\n",
       "      <td>False</td>\n",
       "      <td>False</td>\n",
       "      <td>False</td>\n",
       "      <td>...</td>\n",
       "      <td>False</td>\n",
       "      <td>False</td>\n",
       "      <td>False</td>\n",
       "      <td>False</td>\n",
       "      <td>False</td>\n",
       "      <td>False</td>\n",
       "      <td>False</td>\n",
       "      <td>False</td>\n",
       "      <td>False</td>\n",
       "      <td>False</td>\n",
       "    </tr>\n",
       "    <tr>\n",
       "      <th>4</th>\n",
       "      <td>102</td>\n",
       "      <td>2</td>\n",
       "      <td>1</td>\n",
       "      <td>1</td>\n",
       "      <td>1</td>\n",
       "      <td>False</td>\n",
       "      <td>False</td>\n",
       "      <td>False</td>\n",
       "      <td>False</td>\n",
       "      <td>False</td>\n",
       "      <td>...</td>\n",
       "      <td>False</td>\n",
       "      <td>False</td>\n",
       "      <td>False</td>\n",
       "      <td>False</td>\n",
       "      <td>False</td>\n",
       "      <td>False</td>\n",
       "      <td>False</td>\n",
       "      <td>False</td>\n",
       "      <td>False</td>\n",
       "      <td>False</td>\n",
       "    </tr>\n",
       "    <tr>\n",
       "      <th>...</th>\n",
       "      <td>...</td>\n",
       "      <td>...</td>\n",
       "      <td>...</td>\n",
       "      <td>...</td>\n",
       "      <td>...</td>\n",
       "      <td>...</td>\n",
       "      <td>...</td>\n",
       "      <td>...</td>\n",
       "      <td>...</td>\n",
       "      <td>...</td>\n",
       "      <td>...</td>\n",
       "      <td>...</td>\n",
       "      <td>...</td>\n",
       "      <td>...</td>\n",
       "      <td>...</td>\n",
       "      <td>...</td>\n",
       "      <td>...</td>\n",
       "      <td>...</td>\n",
       "      <td>...</td>\n",
       "      <td>...</td>\n",
       "      <td>...</td>\n",
       "    </tr>\n",
       "    <tr>\n",
       "      <th>2591</th>\n",
       "      <td>140</td>\n",
       "      <td>3</td>\n",
       "      <td>1</td>\n",
       "      <td>1</td>\n",
       "      <td>1</td>\n",
       "      <td>False</td>\n",
       "      <td>False</td>\n",
       "      <td>False</td>\n",
       "      <td>False</td>\n",
       "      <td>False</td>\n",
       "      <td>...</td>\n",
       "      <td>False</td>\n",
       "      <td>False</td>\n",
       "      <td>False</td>\n",
       "      <td>False</td>\n",
       "      <td>False</td>\n",
       "      <td>False</td>\n",
       "      <td>False</td>\n",
       "      <td>False</td>\n",
       "      <td>False</td>\n",
       "      <td>True</td>\n",
       "    </tr>\n",
       "    <tr>\n",
       "      <th>2592</th>\n",
       "      <td>68</td>\n",
       "      <td>2</td>\n",
       "      <td>0</td>\n",
       "      <td>1</td>\n",
       "      <td>1</td>\n",
       "      <td>False</td>\n",
       "      <td>False</td>\n",
       "      <td>False</td>\n",
       "      <td>False</td>\n",
       "      <td>False</td>\n",
       "      <td>...</td>\n",
       "      <td>False</td>\n",
       "      <td>False</td>\n",
       "      <td>False</td>\n",
       "      <td>False</td>\n",
       "      <td>False</td>\n",
       "      <td>False</td>\n",
       "      <td>False</td>\n",
       "      <td>False</td>\n",
       "      <td>False</td>\n",
       "      <td>True</td>\n",
       "    </tr>\n",
       "    <tr>\n",
       "      <th>2593</th>\n",
       "      <td>118</td>\n",
       "      <td>2</td>\n",
       "      <td>1</td>\n",
       "      <td>1</td>\n",
       "      <td>1</td>\n",
       "      <td>False</td>\n",
       "      <td>False</td>\n",
       "      <td>False</td>\n",
       "      <td>False</td>\n",
       "      <td>False</td>\n",
       "      <td>...</td>\n",
       "      <td>False</td>\n",
       "      <td>False</td>\n",
       "      <td>False</td>\n",
       "      <td>False</td>\n",
       "      <td>False</td>\n",
       "      <td>False</td>\n",
       "      <td>False</td>\n",
       "      <td>False</td>\n",
       "      <td>False</td>\n",
       "      <td>True</td>\n",
       "    </tr>\n",
       "    <tr>\n",
       "      <th>2594</th>\n",
       "      <td>148</td>\n",
       "      <td>3</td>\n",
       "      <td>1</td>\n",
       "      <td>1</td>\n",
       "      <td>1</td>\n",
       "      <td>False</td>\n",
       "      <td>False</td>\n",
       "      <td>False</td>\n",
       "      <td>False</td>\n",
       "      <td>False</td>\n",
       "      <td>...</td>\n",
       "      <td>False</td>\n",
       "      <td>False</td>\n",
       "      <td>False</td>\n",
       "      <td>False</td>\n",
       "      <td>False</td>\n",
       "      <td>False</td>\n",
       "      <td>False</td>\n",
       "      <td>False</td>\n",
       "      <td>False</td>\n",
       "      <td>True</td>\n",
       "    </tr>\n",
       "    <tr>\n",
       "      <th>2595</th>\n",
       "      <td>74</td>\n",
       "      <td>2</td>\n",
       "      <td>1</td>\n",
       "      <td>1</td>\n",
       "      <td>1</td>\n",
       "      <td>False</td>\n",
       "      <td>False</td>\n",
       "      <td>False</td>\n",
       "      <td>False</td>\n",
       "      <td>False</td>\n",
       "      <td>...</td>\n",
       "      <td>False</td>\n",
       "      <td>False</td>\n",
       "      <td>False</td>\n",
       "      <td>False</td>\n",
       "      <td>False</td>\n",
       "      <td>False</td>\n",
       "      <td>False</td>\n",
       "      <td>False</td>\n",
       "      <td>False</td>\n",
       "      <td>True</td>\n",
       "    </tr>\n",
       "  </tbody>\n",
       "</table>\n",
       "<p>2596 rows × 69 columns</p>\n",
       "</div>"
      ],
      "text/plain": [
       "      Area  Room  Parking  Warehouse  Elevator  Amirabad  Amirieh  Andisheh  \\\n",
       "0       79     2        1          1         1     False    False     False   \n",
       "1      135     3        1          1         1     False    False     False   \n",
       "2       95     2        1          1         1     False    False     False   \n",
       "3       95     2        1          1         1     False    False     False   \n",
       "4      102     2        1          1         1     False    False     False   \n",
       "...    ...   ...      ...        ...       ...       ...      ...       ...   \n",
       "2591   140     3        1          1         1     False    False     False   \n",
       "2592    68     2        0          1         1     False    False     False   \n",
       "2593   118     2        1          1         1     False    False     False   \n",
       "2594   148     3        1          1         1     False    False     False   \n",
       "2595    74     2        1          1         1     False    False     False   \n",
       "\n",
       "      Aqdasieh  Azarbaijan  ...  Si Metri Ji  Southern Janatabad  \\\n",
       "0        False       False  ...        False               False   \n",
       "1        False       False  ...        False               False   \n",
       "2        False       False  ...        False               False   \n",
       "3        False       False  ...        False               False   \n",
       "4        False       False  ...        False               False   \n",
       "...        ...         ...  ...          ...                 ...   \n",
       "2591     False       False  ...        False               False   \n",
       "2592     False       False  ...        False               False   \n",
       "2593     False       False  ...        False               False   \n",
       "2594     False       False  ...        False               False   \n",
       "2595     False       False  ...        False               False   \n",
       "\n",
       "      Southern Program Organization  Tenant  Velenjak  West Ferdows Boulevard  \\\n",
       "0                             False   False     False                   False   \n",
       "1                             False   False     False                   False   \n",
       "2                             False   False     False                   False   \n",
       "3                             False   False     False                   False   \n",
       "4                             False   False     False                   False   \n",
       "...                             ...     ...       ...                     ...   \n",
       "2591                          False   False     False                   False   \n",
       "2592                          False   False     False                   False   \n",
       "2593                          False   False     False                   False   \n",
       "2594                          False   False     False                   False   \n",
       "2595                          False   False     False                   False   \n",
       "\n",
       "      West Pars  Yousef Abad  Zaferanieh  other  \n",
       "0         False        False       False  False  \n",
       "1         False        False       False  False  \n",
       "2         False        False       False  False  \n",
       "3         False        False       False  False  \n",
       "4         False        False       False  False  \n",
       "...         ...          ...         ...    ...  \n",
       "2591      False        False       False   True  \n",
       "2592      False        False       False   True  \n",
       "2593      False        False       False   True  \n",
       "2594      False        False       False   True  \n",
       "2595      False        False       False   True  \n",
       "\n",
       "[2596 rows x 69 columns]"
      ]
     },
     "execution_count": 38,
     "metadata": {},
     "output_type": "execute_result"
    }
   ],
   "source": [
    "x=enc_data.drop(['Price','Price_Per_sqm','Price_USD'],axis='columns')\n",
    "x.head()\n",
    "x"
   ]
  },
  {
   "cell_type": "code",
   "execution_count": 39,
   "id": "6771c92f",
   "metadata": {
    "execution": {
     "iopub.execute_input": "2025-03-25T19:49:56.745325Z",
     "iopub.status.busy": "2025-03-25T19:49:56.744986Z",
     "iopub.status.idle": "2025-03-25T19:49:56.752657Z",
     "shell.execute_reply": "2025-03-25T19:49:56.751562Z"
    },
    "papermill": {
     "duration": 0.03074,
     "end_time": "2025-03-25T19:49:56.754395",
     "exception": false,
     "start_time": "2025-03-25T19:49:56.723655",
     "status": "completed"
    },
    "tags": []
   },
   "outputs": [
    {
     "data": {
      "text/plain": [
       "0      100000\n",
       "1      216000\n",
       "2      186667\n",
       "3      150000\n",
       "4      173333\n",
       "        ...  \n",
       "2591   280000\n",
       "2592    33333\n",
       "2593   236000\n",
       "2594   200000\n",
       "2595   135667\n",
       "Name: Price_USD, Length: 2596, dtype: float64"
      ]
     },
     "execution_count": 39,
     "metadata": {},
     "output_type": "execute_result"
    }
   ],
   "source": [
    "y=enc_data.Price_USD\n",
    "y.head()\n",
    "y"
   ]
  },
  {
   "cell_type": "markdown",
   "id": "001cdf2f",
   "metadata": {
    "papermill": {
     "duration": 0.019955,
     "end_time": "2025-03-25T19:49:56.794594",
     "exception": false,
     "start_time": "2025-03-25T19:49:56.774639",
     "status": "completed"
    },
    "tags": []
   },
   "source": [
    "Spliting test and train data"
   ]
  },
  {
   "cell_type": "code",
   "execution_count": 40,
   "id": "379dd794",
   "metadata": {
    "execution": {
     "iopub.execute_input": "2025-03-25T19:49:56.835710Z",
     "iopub.status.busy": "2025-03-25T19:49:56.835324Z",
     "iopub.status.idle": "2025-03-25T19:49:56.842386Z",
     "shell.execute_reply": "2025-03-25T19:49:56.841465Z"
    },
    "papermill": {
     "duration": 0.029586,
     "end_time": "2025-03-25T19:49:56.844090",
     "exception": false,
     "start_time": "2025-03-25T19:49:56.814504",
     "status": "completed"
    },
    "tags": []
   },
   "outputs": [],
   "source": [
    "from sklearn.model_selection import train_test_split\n",
    "x_train, x_test, y_train, y_test = train_test_split(x, y, test_size=0.2, random_state=42)"
   ]
  },
  {
   "cell_type": "markdown",
   "id": "b9470882",
   "metadata": {
    "papermill": {
     "duration": 0.01978,
     "end_time": "2025-03-25T19:49:56.885599",
     "exception": false,
     "start_time": "2025-03-25T19:49:56.865819",
     "status": "completed"
    },
    "tags": []
   },
   "source": [
    "standarding and scaling data "
   ]
  },
  {
   "cell_type": "code",
   "execution_count": 41,
   "id": "b23b857a",
   "metadata": {
    "execution": {
     "iopub.execute_input": "2025-03-25T19:49:56.927178Z",
     "iopub.status.busy": "2025-03-25T19:49:56.926827Z",
     "iopub.status.idle": "2025-03-25T19:49:56.971010Z",
     "shell.execute_reply": "2025-03-25T19:49:56.969897Z"
    },
    "papermill": {
     "duration": 0.067467,
     "end_time": "2025-03-25T19:49:56.972884",
     "exception": false,
     "start_time": "2025-03-25T19:49:56.905417",
     "status": "completed"
    },
    "tags": []
   },
   "outputs": [],
   "source": [
    "standard_scaler = StandardScaler()\n",
    "x_train_scaled = standard_scaler.fit_transform(x_train)\n",
    "x_test_scaled = standard_scaler.transform(x_test)\n",
    "\n",
    "Min_Max_scaler = MinMaxScaler()\n",
    "x_train_scaled = Min_Max_scaler.fit_transform(x_train)\n",
    "x_test_scaled = Min_Max_scaler.transform(x_test)"
   ]
  },
  {
   "cell_type": "markdown",
   "id": "e3e05630",
   "metadata": {
    "papermill": {
     "duration": 0.01945,
     "end_time": "2025-03-25T19:49:57.012422",
     "exception": false,
     "start_time": "2025-03-25T19:49:56.992972",
     "status": "completed"
    },
    "tags": []
   },
   "source": [
    "Training the model using Linear Regression "
   ]
  },
  {
   "cell_type": "code",
   "execution_count": 42,
   "id": "0e730b82",
   "metadata": {
    "execution": {
     "iopub.execute_input": "2025-03-25T19:49:57.053653Z",
     "iopub.status.busy": "2025-03-25T19:49:57.053258Z",
     "iopub.status.idle": "2025-03-25T19:49:57.115705Z",
     "shell.execute_reply": "2025-03-25T19:49:57.114611Z"
    },
    "papermill": {
     "duration": 0.085123,
     "end_time": "2025-03-25T19:49:57.117407",
     "exception": false,
     "start_time": "2025-03-25T19:49:57.032284",
     "status": "completed"
    },
    "tags": []
   },
   "outputs": [
    {
     "data": {
      "text/html": [
       "<style>#sk-container-id-1 {color: black;background-color: white;}#sk-container-id-1 pre{padding: 0;}#sk-container-id-1 div.sk-toggleable {background-color: white;}#sk-container-id-1 label.sk-toggleable__label {cursor: pointer;display: block;width: 100%;margin-bottom: 0;padding: 0.3em;box-sizing: border-box;text-align: center;}#sk-container-id-1 label.sk-toggleable__label-arrow:before {content: \"▸\";float: left;margin-right: 0.25em;color: #696969;}#sk-container-id-1 label.sk-toggleable__label-arrow:hover:before {color: black;}#sk-container-id-1 div.sk-estimator:hover label.sk-toggleable__label-arrow:before {color: black;}#sk-container-id-1 div.sk-toggleable__content {max-height: 0;max-width: 0;overflow: hidden;text-align: left;background-color: #f0f8ff;}#sk-container-id-1 div.sk-toggleable__content pre {margin: 0.2em;color: black;border-radius: 0.25em;background-color: #f0f8ff;}#sk-container-id-1 input.sk-toggleable__control:checked~div.sk-toggleable__content {max-height: 200px;max-width: 100%;overflow: auto;}#sk-container-id-1 input.sk-toggleable__control:checked~label.sk-toggleable__label-arrow:before {content: \"▾\";}#sk-container-id-1 div.sk-estimator input.sk-toggleable__control:checked~label.sk-toggleable__label {background-color: #d4ebff;}#sk-container-id-1 div.sk-label input.sk-toggleable__control:checked~label.sk-toggleable__label {background-color: #d4ebff;}#sk-container-id-1 input.sk-hidden--visually {border: 0;clip: rect(1px 1px 1px 1px);clip: rect(1px, 1px, 1px, 1px);height: 1px;margin: -1px;overflow: hidden;padding: 0;position: absolute;width: 1px;}#sk-container-id-1 div.sk-estimator {font-family: monospace;background-color: #f0f8ff;border: 1px dotted black;border-radius: 0.25em;box-sizing: border-box;margin-bottom: 0.5em;}#sk-container-id-1 div.sk-estimator:hover {background-color: #d4ebff;}#sk-container-id-1 div.sk-parallel-item::after {content: \"\";width: 100%;border-bottom: 1px solid gray;flex-grow: 1;}#sk-container-id-1 div.sk-label:hover label.sk-toggleable__label {background-color: #d4ebff;}#sk-container-id-1 div.sk-serial::before {content: \"\";position: absolute;border-left: 1px solid gray;box-sizing: border-box;top: 0;bottom: 0;left: 50%;z-index: 0;}#sk-container-id-1 div.sk-serial {display: flex;flex-direction: column;align-items: center;background-color: white;padding-right: 0.2em;padding-left: 0.2em;position: relative;}#sk-container-id-1 div.sk-item {position: relative;z-index: 1;}#sk-container-id-1 div.sk-parallel {display: flex;align-items: stretch;justify-content: center;background-color: white;position: relative;}#sk-container-id-1 div.sk-item::before, #sk-container-id-1 div.sk-parallel-item::before {content: \"\";position: absolute;border-left: 1px solid gray;box-sizing: border-box;top: 0;bottom: 0;left: 50%;z-index: -1;}#sk-container-id-1 div.sk-parallel-item {display: flex;flex-direction: column;z-index: 1;position: relative;background-color: white;}#sk-container-id-1 div.sk-parallel-item:first-child::after {align-self: flex-end;width: 50%;}#sk-container-id-1 div.sk-parallel-item:last-child::after {align-self: flex-start;width: 50%;}#sk-container-id-1 div.sk-parallel-item:only-child::after {width: 0;}#sk-container-id-1 div.sk-dashed-wrapped {border: 1px dashed gray;margin: 0 0.4em 0.5em 0.4em;box-sizing: border-box;padding-bottom: 0.4em;background-color: white;}#sk-container-id-1 div.sk-label label {font-family: monospace;font-weight: bold;display: inline-block;line-height: 1.2em;}#sk-container-id-1 div.sk-label-container {text-align: center;}#sk-container-id-1 div.sk-container {/* jupyter's `normalize.less` sets `[hidden] { display: none; }` but bootstrap.min.css set `[hidden] { display: none !important; }` so we also need the `!important` here to be able to override the default hidden behavior on the sphinx rendered scikit-learn.org. See: https://github.com/scikit-learn/scikit-learn/issues/21755 */display: inline-block !important;position: relative;}#sk-container-id-1 div.sk-text-repr-fallback {display: none;}</style><div id=\"sk-container-id-1\" class=\"sk-top-container\"><div class=\"sk-text-repr-fallback\"><pre>LinearRegression()</pre><b>In a Jupyter environment, please rerun this cell to show the HTML representation or trust the notebook. <br />On GitHub, the HTML representation is unable to render, please try loading this page with nbviewer.org.</b></div><div class=\"sk-container\" hidden><div class=\"sk-item\"><div class=\"sk-estimator sk-toggleable\"><input class=\"sk-toggleable__control sk-hidden--visually\" id=\"sk-estimator-id-1\" type=\"checkbox\" checked><label for=\"sk-estimator-id-1\" class=\"sk-toggleable__label sk-toggleable__label-arrow\">LinearRegression</label><div class=\"sk-toggleable__content\"><pre>LinearRegression()</pre></div></div></div></div></div>"
      ],
      "text/plain": [
       "LinearRegression()"
      ]
     },
     "execution_count": 42,
     "metadata": {},
     "output_type": "execute_result"
    }
   ],
   "source": [
    "from sklearn.linear_model import LinearRegression\n",
    "lr_clf=LinearRegression()\n",
    "lr_clf.fit(x_train, y_train)"
   ]
  },
  {
   "cell_type": "markdown",
   "id": "a96bb216",
   "metadata": {
    "papermill": {
     "duration": 0.019538,
     "end_time": "2025-03-25T19:49:57.158281",
     "exception": false,
     "start_time": "2025-03-25T19:49:57.138743",
     "status": "completed"
    },
    "tags": []
   },
   "source": [
    "Evaluating the model "
   ]
  },
  {
   "cell_type": "code",
   "execution_count": 43,
   "id": "b7ef35db",
   "metadata": {
    "execution": {
     "iopub.execute_input": "2025-03-25T19:49:57.199971Z",
     "iopub.status.busy": "2025-03-25T19:49:57.199591Z",
     "iopub.status.idle": "2025-03-25T19:49:57.211076Z",
     "shell.execute_reply": "2025-03-25T19:49:57.209948Z"
    },
    "papermill": {
     "duration": 0.034053,
     "end_time": "2025-03-25T19:49:57.212715",
     "exception": false,
     "start_time": "2025-03-25T19:49:57.178662",
     "status": "completed"
    },
    "tags": []
   },
   "outputs": [
    {
     "data": {
      "text/plain": [
       "0.8925999884527274"
      ]
     },
     "execution_count": 43,
     "metadata": {},
     "output_type": "execute_result"
    }
   ],
   "source": [
    "score = lr_clf.score(x_test, y_test)  \n",
    "score"
   ]
  },
  {
   "cell_type": "markdown",
   "id": "dcd76a1c",
   "metadata": {
    "papermill": {
     "duration": 0.01967,
     "end_time": "2025-03-25T19:49:57.255121",
     "exception": false,
     "start_time": "2025-03-25T19:49:57.235451",
     "status": "completed"
    },
    "tags": []
   },
   "source": [
    "XGBRegressor Fit and Evaluate"
   ]
  },
  {
   "cell_type": "code",
   "execution_count": 44,
   "id": "242efd24",
   "metadata": {
    "execution": {
     "iopub.execute_input": "2025-03-25T19:49:57.296475Z",
     "iopub.status.busy": "2025-03-25T19:49:57.296098Z",
     "iopub.status.idle": "2025-03-25T19:49:57.599881Z",
     "shell.execute_reply": "2025-03-25T19:49:57.597629Z"
    },
    "papermill": {
     "duration": 0.327159,
     "end_time": "2025-03-25T19:49:57.602333",
     "exception": false,
     "start_time": "2025-03-25T19:49:57.275174",
     "status": "completed"
    },
    "tags": []
   },
   "outputs": [
    {
     "name": "stdout",
     "output_type": "stream",
     "text": [
      "XGBRegressor Score with non_selected features: 0.8473264508602808\n"
     ]
    }
   ],
   "source": [
    "xgb_clf = XGBRegressor(n_estimators=100, max_depth=15, learning_rate=0.05, random_state=42)\n",
    "xgb_clf.fit(x_train, y_train)\n",
    "print(\"XGBRegressor Score with non_selected features:\", xgb_clf.score(x_test, y_test))\n"
   ]
  },
  {
   "cell_type": "markdown",
   "id": "a16bba21",
   "metadata": {
    "papermill": {
     "duration": 0.019931,
     "end_time": "2025-03-25T19:49:57.645362",
     "exception": false,
     "start_time": "2025-03-25T19:49:57.625431",
     "status": "completed"
    },
    "tags": []
   },
   "source": [
    "Use K Fold cross validation to measure accuracy of our LinearRegression model\n"
   ]
  },
  {
   "cell_type": "code",
   "execution_count": 45,
   "id": "e090a50f",
   "metadata": {
    "execution": {
     "iopub.execute_input": "2025-03-25T19:49:57.687712Z",
     "iopub.status.busy": "2025-03-25T19:49:57.687308Z",
     "iopub.status.idle": "2025-03-25T19:49:57.757689Z",
     "shell.execute_reply": "2025-03-25T19:49:57.756618Z"
    },
    "papermill": {
     "duration": 0.093852,
     "end_time": "2025-03-25T19:49:57.759571",
     "exception": false,
     "start_time": "2025-03-25T19:49:57.665719",
     "status": "completed"
    },
    "tags": []
   },
   "outputs": [
    {
     "data": {
      "text/plain": [
       "array([0.88349116, 0.87911736, 0.89415504, 0.91513694, 0.87352751])"
      ]
     },
     "execution_count": 45,
     "metadata": {},
     "output_type": "execute_result"
    }
   ],
   "source": [
    "from sklearn.model_selection import ShuffleSplit\n",
    "from sklearn.model_selection import cross_val_score\n",
    "\n",
    "cv = ShuffleSplit(n_splits=5, test_size=0.2, random_state=0)\n",
    "\n",
    "cross_val_score(LinearRegression(), x, y, cv=cv)"
   ]
  },
  {
   "cell_type": "markdown",
   "id": "066f6dad",
   "metadata": {
    "papermill": {
     "duration": 0.020166,
     "end_time": "2025-03-25T19:49:57.800322",
     "exception": false,
     "start_time": "2025-03-25T19:49:57.780156",
     "status": "completed"
    },
    "tags": []
   },
   "source": [
    "Use K Fold cross validation to measure accuracy of our XGBRegressor model\n"
   ]
  },
  {
   "cell_type": "code",
   "execution_count": 46,
   "id": "8fe2b7f5",
   "metadata": {
    "execution": {
     "iopub.execute_input": "2025-03-25T19:49:57.842149Z",
     "iopub.status.busy": "2025-03-25T19:49:57.841743Z",
     "iopub.status.idle": "2025-03-25T19:49:58.494131Z",
     "shell.execute_reply": "2025-03-25T19:49:58.491987Z"
    },
    "papermill": {
     "duration": 0.675284,
     "end_time": "2025-03-25T19:49:58.495952",
     "exception": false,
     "start_time": "2025-03-25T19:49:57.820668",
     "status": "completed"
    },
    "tags": []
   },
   "outputs": [
    {
     "data": {
      "text/plain": [
       "array([0.89992325, 0.89503729, 0.92281119, 0.88609529, 0.92652015])"
      ]
     },
     "execution_count": 46,
     "metadata": {},
     "output_type": "execute_result"
    }
   ],
   "source": [
    "cv = ShuffleSplit(n_splits=5, test_size=0.2, random_state=0)\n",
    "\n",
    "cross_val_score(XGBRegressor(), x, y, cv=cv)"
   ]
  },
  {
   "cell_type": "markdown",
   "id": "b828a155",
   "metadata": {
    "papermill": {
     "duration": 0.023135,
     "end_time": "2025-03-25T19:49:58.542546",
     "exception": false,
     "start_time": "2025-03-25T19:49:58.519411",
     "status": "completed"
    },
    "tags": []
   },
   "source": [
    "Find best model using GridSearchCV"
   ]
  },
  {
   "cell_type": "markdown",
   "id": "878f5b88",
   "metadata": {
    "papermill": {
     "duration": 0.020045,
     "end_time": "2025-03-25T19:49:58.585446",
     "exception": false,
     "start_time": "2025-03-25T19:49:58.565401",
     "status": "completed"
    },
    "tags": []
   },
   "source": [
    "In this cell, we will implement Linear Regression, Lasso, Decision Tree Regressor, Random Forest Regressor, and XGBoost Regressor to evaluate their performance and determine the model with the highest accuracy."
   ]
  },
  {
   "cell_type": "code",
   "execution_count": 47,
   "id": "9a2199ea",
   "metadata": {
    "execution": {
     "iopub.execute_input": "2025-03-25T19:49:58.627367Z",
     "iopub.status.busy": "2025-03-25T19:49:58.627039Z",
     "iopub.status.idle": "2025-03-25T19:52:36.647802Z",
     "shell.execute_reply": "2025-03-25T19:52:36.646887Z"
    },
    "papermill": {
     "duration": 158.044383,
     "end_time": "2025-03-25T19:52:36.650115",
     "exception": false,
     "start_time": "2025-03-25T19:49:58.605732",
     "status": "completed"
    },
    "tags": []
   },
   "outputs": [],
   "source": [
    "def find_best_model_using_gridsearchcv(x, y):\n",
    "    algos = {\n",
    "        'linear_regression': {\n",
    "            'model': LinearRegression(),\n",
    "            'params': {\n",
    "                'fit_intercept': [True, False]  \n",
    "            }\n",
    "        },\n",
    "        'lasso': {\n",
    "            'model': Lasso(),\n",
    "            'params': {\n",
    "                'alpha': [0.1, 1, 10],\n",
    "                'selection': ['random', 'cyclic']\n",
    "            }\n",
    "        },\n",
    "        'decision_tree': {\n",
    "            'model': DecisionTreeRegressor(),\n",
    "            'params': {\n",
    "                'criterion': ['squared_error', 'friedman_mse'],  \n",
    "                'splitter': ['best', 'random'],\n",
    "                'max_depth': [5, 10, None]\n",
    "            }\n",
    "        },\n",
    "        'random_forest': {\n",
    "            'model': RandomForestRegressor(),\n",
    "            'params': {\n",
    "                'n_estimators': [50, 100, 200],\n",
    "                'max_depth': [10, 20, None],\n",
    "                'min_samples_split': [2, 5, 10]\n",
    "            }\n",
    "        },\n",
    "        'xgboost': {\n",
    "            'model': XGBRegressor(),\n",
    "            'params': {\n",
    "                'n_estimators': [100, 200, 300],\n",
    "                'max_depth': [3, 6, 10],\n",
    "                'learning_rate': [0.01, 0.05, 0.1]\n",
    "            }\n",
    "        }\n",
    "    }\n",
    "\n",
    "    scores = []\n",
    "    cv = ShuffleSplit(n_splits=5, test_size=0.2, random_state=0)\n",
    "\n",
    "    for algo_name, config in algos.items():\n",
    "        gs = GridSearchCV(config['model'], config['params'], cv=cv, return_train_score=False)\n",
    "        gs.fit(x, y)\n",
    "        scores.append({\n",
    "            'model': algo_name,\n",
    "            'best_score': gs.best_score_,\n",
    "            'best_params': gs.best_params_\n",
    "        })\n",
    "\n",
    "    return pd.DataFrame(scores, columns=['model', 'best_score', 'best_params'])\n",
    "\n",
    "best_models = find_best_model_using_gridsearchcv(x, y)\n"
   ]
  },
  {
   "cell_type": "code",
   "execution_count": 48,
   "id": "45c6d244",
   "metadata": {
    "execution": {
     "iopub.execute_input": "2025-03-25T19:52:36.694800Z",
     "iopub.status.busy": "2025-03-25T19:52:36.694408Z",
     "iopub.status.idle": "2025-03-25T19:52:36.702168Z",
     "shell.execute_reply": "2025-03-25T19:52:36.701033Z"
    },
    "papermill": {
     "duration": 0.03092,
     "end_time": "2025-03-25T19:52:36.704041",
     "exception": false,
     "start_time": "2025-03-25T19:52:36.673121",
     "status": "completed"
    },
    "tags": []
   },
   "outputs": [
    {
     "name": "stdout",
     "output_type": "stream",
     "text": [
      "               model  best_score  \\\n",
      "0  linear_regression           1   \n",
      "1              lasso           1   \n",
      "2      decision_tree           1   \n",
      "3      random_forest           1   \n",
      "4            xgboost           1   \n",
      "\n",
      "                                         best_params  \n",
      "0                            {'fit_intercept': True}  \n",
      "1              {'alpha': 0.1, 'selection': 'random'}  \n",
      "2  {'criterion': 'friedman_mse', 'max_depth': Non...  \n",
      "3  {'max_depth': None, 'min_samples_split': 5, 'n...  \n",
      "4  {'learning_rate': 0.1, 'max_depth': 3, 'n_esti...  \n"
     ]
    }
   ],
   "source": [
    "print(best_models)\n"
   ]
  },
  {
   "cell_type": "markdown",
   "id": "4806a97d",
   "metadata": {
    "papermill": {
     "duration": 0.020857,
     "end_time": "2025-03-25T19:52:36.745689",
     "exception": false,
     "start_time": "2025-03-25T19:52:36.724832",
     "status": "completed"
    },
    "tags": []
   },
   "source": [
    "Checing the possiblity of Overfitting"
   ]
  },
  {
   "cell_type": "code",
   "execution_count": 49,
   "id": "1476ccde",
   "metadata": {
    "execution": {
     "iopub.execute_input": "2025-03-25T19:52:36.788008Z",
     "iopub.status.busy": "2025-03-25T19:52:36.787627Z",
     "iopub.status.idle": "2025-03-25T19:52:43.631959Z",
     "shell.execute_reply": "2025-03-25T19:52:43.630380Z"
    },
    "papermill": {
     "duration": 6.867557,
     "end_time": "2025-03-25T19:52:43.633568",
     "exception": false,
     "start_time": "2025-03-25T19:52:36.766011",
     "status": "completed"
    },
    "tags": []
   },
   "outputs": [
    {
     "name": "stdout",
     "output_type": "stream",
     "text": [
      "Train Score Mean: 0.7714\n",
      "Test Score Mean: 0.7819\n",
      "Score Difference: 0.0105\n",
      "--------------------------------------------------\n",
      "Train Score Mean: 0.8638\n",
      "Test Score Mean: 0.8644\n",
      "Score Difference: 0.0007\n",
      "--------------------------------------------------\n",
      "Train Score Mean: 0.8794\n",
      "Test Score Mean: 0.8794\n",
      "Score Difference: 0.0000\n",
      "--------------------------------------------------\n"
     ]
    }
   ],
   "source": [
    "from sklearn.model_selection import cross_val_score, KFold\n",
    "\n",
    "def check_overfitting(model, x, y):\n",
    "    kf = KFold(n_splits=5, shuffle=True, random_state=42)\n",
    "    \n",
    "    train_scores = cross_val_score(model, x, y, cv=kf, scoring='r2')\n",
    "    test_scores = cross_val_score(model, x, y, cv=kf, scoring='r2')\n",
    "\n",
    "    print(f\"Train Score Mean: {np.mean(train_scores):.4f}\")\n",
    "    print(f\"Test Score Mean: {np.mean(test_scores):.4f}\")\n",
    "    print(f\"Score Difference: {abs(np.mean(train_scores) - np.mean(test_scores)):.4f}\")\n",
    "    print(\"-\" * 50)\n",
    "\n",
    "check_overfitting(DecisionTreeRegressor(max_depth=5), x, y)\n",
    "check_overfitting(RandomForestRegressor(n_estimators=100, max_depth=10), x, y)\n",
    "check_overfitting(XGBRegressor(n_estimators=100, max_depth=6, learning_rate=0.05), x, y)\n"
   ]
  },
  {
   "cell_type": "markdown",
   "id": "3f0f444f",
   "metadata": {
    "papermill": {
     "duration": 0.020491,
     "end_time": "2025-03-25T19:52:43.677754",
     "exception": false,
     "start_time": "2025-03-25T19:52:43.657263",
     "status": "completed"
    },
    "tags": []
   },
   "source": [
    "As seen from the results, the likelihood of overfitting is very low, and for XGBRegressor, it is nonexistent—even when achieving the highest score of 1. Therefore, we proceed with XGBRegressor as our final model."
   ]
  },
  {
   "cell_type": "markdown",
   "id": "234f3977",
   "metadata": {
    "papermill": {
     "duration": 0.020229,
     "end_time": "2025-03-25T19:52:43.718640",
     "exception": false,
     "start_time": "2025-03-25T19:52:43.698411",
     "status": "completed"
    },
    "tags": []
   },
   "source": [
    "Test the model for few properties"
   ]
  },
  {
   "cell_type": "code",
   "execution_count": 50,
   "id": "2bdd0d87",
   "metadata": {
    "execution": {
     "iopub.execute_input": "2025-03-25T19:52:43.760869Z",
     "iopub.status.busy": "2025-03-25T19:52:43.760438Z",
     "iopub.status.idle": "2025-03-25T19:52:43.766157Z",
     "shell.execute_reply": "2025-03-25T19:52:43.765087Z"
    },
    "papermill": {
     "duration": 0.028595,
     "end_time": "2025-03-25T19:52:43.767696",
     "exception": false,
     "start_time": "2025-03-25T19:52:43.739101",
     "status": "completed"
    },
    "tags": []
   },
   "outputs": [],
   "source": [
    "def predict_price(Address, Area, Elevation, rooms, parking, wearhouse):    \n",
    "    X = np.zeros(len(x.columns))  \n",
    "    \n",
    "    X[0] = Area\n",
    "    X[1] = Elevation\n",
    "    X[2] = rooms\n",
    "    X[3] = parking\n",
    "    X[4] = wearhouse\n",
    "    \n",
    "    if Address in x.columns:\n",
    "        loc_index = np.where(x.columns == Address)[0][0]\n",
    "        X[loc_index] = 1  \n",
    "    else:\n",
    "        print(f\"Warning: Location {Address} not found. Using default location encoding.\")\n",
    "    \n",
    "    predicted_price = xgb_clf.predict([X])[0]\n",
    "    \n",
    "    print(f\"Predicted price: {predicted_price:.2f} \")\n",
    "    return predicted_price\n"
   ]
  },
  {
   "cell_type": "code",
   "execution_count": 51,
   "id": "2bd9e267",
   "metadata": {
    "execution": {
     "iopub.execute_input": "2025-03-25T19:52:43.810053Z",
     "iopub.status.busy": "2025-03-25T19:52:43.809714Z",
     "iopub.status.idle": "2025-03-25T19:52:43.817860Z",
     "shell.execute_reply": "2025-03-25T19:52:43.817044Z"
    },
    "papermill": {
     "duration": 0.031044,
     "end_time": "2025-03-25T19:52:43.819436",
     "exception": false,
     "start_time": "2025-03-25T19:52:43.788392",
     "status": "completed"
    },
    "tags": []
   },
   "outputs": [
    {
     "name": "stdout",
     "output_type": "stream",
     "text": [
      "Predicted price: 158664.23 \n"
     ]
    }
   ],
   "source": [
    "predicted_price = predict_price('Amirabad', 120, 0, 2, 0, 1)"
   ]
  },
  {
   "cell_type": "code",
   "execution_count": 52,
   "id": "039cd687",
   "metadata": {
    "execution": {
     "iopub.execute_input": "2025-03-25T19:52:43.864266Z",
     "iopub.status.busy": "2025-03-25T19:52:43.863902Z",
     "iopub.status.idle": "2025-03-25T19:52:43.871013Z",
     "shell.execute_reply": "2025-03-25T19:52:43.869260Z"
    },
    "papermill": {
     "duration": 0.030027,
     "end_time": "2025-03-25T19:52:43.872659",
     "exception": false,
     "start_time": "2025-03-25T19:52:43.842632",
     "status": "completed"
    },
    "tags": []
   },
   "outputs": [
    {
     "name": "stdout",
     "output_type": "stream",
     "text": [
      "Predicted price: 251340.80 \n"
     ]
    }
   ],
   "source": [
    "predicted_price = predict_price('Amirabad', 150, 1, 2, 0, 1)"
   ]
  },
  {
   "cell_type": "code",
   "execution_count": 53,
   "id": "4b51793d",
   "metadata": {
    "execution": {
     "iopub.execute_input": "2025-03-25T19:52:43.919019Z",
     "iopub.status.busy": "2025-03-25T19:52:43.918626Z",
     "iopub.status.idle": "2025-03-25T19:52:43.926150Z",
     "shell.execute_reply": "2025-03-25T19:52:43.923142Z"
    },
    "papermill": {
     "duration": 0.031207,
     "end_time": "2025-03-25T19:52:43.928025",
     "exception": false,
     "start_time": "2025-03-25T19:52:43.896818",
     "status": "completed"
    },
    "tags": []
   },
   "outputs": [
    {
     "name": "stdout",
     "output_type": "stream",
     "text": [
      "Predicted price: 28672.59 \n"
     ]
    }
   ],
   "source": [
    "predicted_price = predict_price('Pardis', 120, 0, 2, 0, 1)"
   ]
  }
 ],
 "metadata": {
  "kaggle": {
   "accelerator": "none",
   "dataSources": [
    {
     "datasetId": 6939679,
     "sourceId": 11127522,
     "sourceType": "datasetVersion"
    }
   ],
   "dockerImageVersionId": 30918,
   "isGpuEnabled": false,
   "isInternetEnabled": true,
   "language": "python",
   "sourceType": "notebook"
  },
  "kernelspec": {
   "display_name": "Python 3",
   "language": "python",
   "name": "python3"
  },
  "language_info": {
   "codemirror_mode": {
    "name": "ipython",
    "version": 3
   },
   "file_extension": ".py",
   "mimetype": "text/x-python",
   "name": "python",
   "nbconvert_exporter": "python",
   "pygments_lexer": "ipython3",
   "version": "3.10.12"
  },
  "papermill": {
   "default_parameters": {},
   "duration": 178.205214,
   "end_time": "2025-03-25T19:52:44.773188",
   "environment_variables": {},
   "exception": null,
   "input_path": "__notebook__.ipynb",
   "output_path": "__notebook__.ipynb",
   "parameters": {},
   "start_time": "2025-03-25T19:49:46.567974",
   "version": "2.6.0"
  }
 },
 "nbformat": 4,
 "nbformat_minor": 5
}
